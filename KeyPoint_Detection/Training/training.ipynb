{
 "cells": [
  {
   "cell_type": "code",
   "execution_count": 18,
   "metadata": {
    "execution": {
     "iopub.execute_input": "2025-07-19T11:39:29.737605Z",
     "iopub.status.busy": "2025-07-19T11:39:29.736853Z",
     "iopub.status.idle": "2025-07-19T11:39:32.944535Z",
     "shell.execute_reply": "2025-07-19T11:39:32.943503Z",
     "shell.execute_reply.started": "2025-07-19T11:39:29.737573Z"
    },
    "trusted": true
   },
   "outputs": [],
   "source": [
    "!pip install ultralytics --quiet\n",
    "\n",
    "# install the model once\n",
    "# !wget https://github.com/ultralytics/assets/releases/download/v8.3.0/yolo11n-pose.pt --quiet"
   ]
  },
  {
   "cell_type": "code",
   "execution_count": 19,
   "metadata": {
    "_cell_guid": "b1076dfc-b9ad-4769-8c92-a6c4dae69d19",
    "_uuid": "8f2839f25d086af736a60e9eeb907d3b93b6e0e5",
    "execution": {
     "iopub.execute_input": "2025-07-19T11:39:36.807625Z",
     "iopub.status.busy": "2025-07-19T11:39:36.807282Z",
     "iopub.status.idle": "2025-07-19T11:39:38.683204Z",
     "shell.execute_reply": "2025-07-19T11:39:38.682484Z",
     "shell.execute_reply.started": "2025-07-19T11:39:36.807579Z"
    },
    "trusted": true
   },
   "outputs": [
    {
     "name": "stdout",
     "output_type": "stream",
     "text": [
      "Ultralytics 8.3.168 🚀 Python-3.9.19 torch-2.0.0+cu117 CUDA:0 (NVIDIA RTX A6000, 48566MiB)\n",
      "Setup complete ✅ (48 CPUs, 125.2 GB RAM, 20.9/69.9 GB disk)\n"
     ]
    }
   ],
   "source": [
    "from ultralytics import YOLO \n",
    "import ultralytics\n",
    "import os\n",
    "import shutil\n",
    "\n",
    "ultralytics.checks()"
   ]
  },
  {
   "cell_type": "code",
   "execution_count": 20,
   "metadata": {
    "execution": {
     "iopub.execute_input": "2025-07-19T11:39:58.088012Z",
     "iopub.status.busy": "2025-07-19T11:39:58.087720Z"
    },
    "trusted": true
   },
   "outputs": [
    {
     "name": "stdout",
     "output_type": "stream",
     "text": [
      "Ultralytics 8.3.168 🚀 Python-3.9.19 torch-2.0.0+cu117 CUDA:0 (NVIDIA RTX A6000, 48566MiB)\n",
      "\u001b[34m\u001b[1mengine/trainer: \u001b[0magnostic_nms=False, amp=True, augment=False, auto_augment=randaugment, batch=16, bgr=0.0, box=7.5, cache=False, cfg=None, classes=None, close_mosaic=10, cls=0.5, conf=None, copy_paste=0.0, copy_paste_mode=flip, cos_lr=False, cutmix=0.0, data=/user/gr1/delphi/dghezzi/KeyPoint Detection/YOLO_dataset/45000_5000_160_180_800/45000_5000_160_180_800.yaml, degrees=0.0, deterministic=True, device=None, dfl=1.5, dnn=False, dropout=0.0, dynamic=False, embed=None, epochs=1000, erasing=0.4, exist_ok=False, fliplr=0.5, flipud=0.0, format=torchscript, fraction=1.0, freeze=None, half=False, hsv_h=0.015, hsv_s=0.7, hsv_v=0.4, imgsz=800, int8=False, iou=0.7, keras=False, kobj=1.0, line_width=None, lr0=0.01, lrf=0.01, mask_ratio=4, max_det=300, mixup=0.0, mode=train, model=yolo11s-pose.pt, momentum=0.937, mosaic=1.0, multi_scale=False, name=training_val2, nbs=64, nms=False, opset=None, optimize=False, optimizer=auto, overlap_mask=True, patience=20, perspective=0.0, plots=True, pose=12.0, pretrained=True, profile=False, project=/user/gr1/delphi/dghezzi/KeyPoint Detection/Models/Model-45000_5000_160_180_800, rect=False, resume=False, retina_masks=False, save=True, save_conf=False, save_crop=False, save_dir=/user/gr1/delphi/dghezzi/KeyPoint Detection/Models/Model-45000_5000_160_180_800/training_val2, save_frames=False, save_json=False, save_period=5, save_txt=False, scale=0.5, seed=0, shear=0.0, show=False, show_boxes=True, show_conf=True, show_labels=True, simplify=True, single_cls=False, source=None, split=val, stream_buffer=False, task=pose, time=None, tracker=botsort.yaml, translate=0.1, val=True, verbose=True, vid_stride=1, visualize=False, warmup_bias_lr=0.1, warmup_epochs=3.0, warmup_momentum=0.8, weight_decay=0.0005, workers=8, workspace=None\n",
      "Overriding model.yaml kpt_shape=[17, 3] with kpt_shape=[1, 3]\n",
      "Overriding model.yaml nc=80 with nc=1\n",
      "\n",
      "                   from  n    params  module                                       arguments                     \n",
      "  0                  -1  1       928  ultralytics.nn.modules.conv.Conv             [3, 32, 3, 2]                 \n",
      "  1                  -1  1     18560  ultralytics.nn.modules.conv.Conv             [32, 64, 3, 2]                \n",
      "  2                  -1  1     26080  ultralytics.nn.modules.block.C3k2            [64, 128, 1, False, 0.25]     \n",
      "  3                  -1  1    147712  ultralytics.nn.modules.conv.Conv             [128, 128, 3, 2]              \n",
      "  4                  -1  1    103360  ultralytics.nn.modules.block.C3k2            [128, 256, 1, False, 0.25]    \n",
      "  5                  -1  1    590336  ultralytics.nn.modules.conv.Conv             [256, 256, 3, 2]              \n",
      "  6                  -1  1    346112  ultralytics.nn.modules.block.C3k2            [256, 256, 1, True]           \n",
      "  7                  -1  1   1180672  ultralytics.nn.modules.conv.Conv             [256, 512, 3, 2]              \n",
      "  8                  -1  1   1380352  ultralytics.nn.modules.block.C3k2            [512, 512, 1, True]           \n",
      "  9                  -1  1    656896  ultralytics.nn.modules.block.SPPF            [512, 512, 5]                 \n",
      " 10                  -1  1    990976  ultralytics.nn.modules.block.C2PSA           [512, 512, 1]                 \n",
      " 11                  -1  1         0  torch.nn.modules.upsampling.Upsample         [None, 2, 'nearest']          \n",
      " 12             [-1, 6]  1         0  ultralytics.nn.modules.conv.Concat           [1]                           \n"
     ]
    },
    {
     "name": "stdout",
     "output_type": "stream",
     "text": [
      " 13                  -1  1    443776  ultralytics.nn.modules.block.C3k2            [768, 256, 1, False]          \n",
      " 14                  -1  1         0  torch.nn.modules.upsampling.Upsample         [None, 2, 'nearest']          \n",
      " 15             [-1, 4]  1         0  ultralytics.nn.modules.conv.Concat           [1]                           \n",
      " 16                  -1  1    127680  ultralytics.nn.modules.block.C3k2            [512, 128, 1, False]          \n",
      " 17                  -1  1    147712  ultralytics.nn.modules.conv.Conv             [128, 128, 3, 2]              \n",
      " 18            [-1, 13]  1         0  ultralytics.nn.modules.conv.Concat           [1]                           \n",
      " 19                  -1  1    345472  ultralytics.nn.modules.block.C3k2            [384, 256, 1, False]          \n",
      " 20                  -1  1    590336  ultralytics.nn.modules.conv.Conv             [256, 256, 3, 2]              \n",
      " 21            [-1, 10]  1         0  ultralytics.nn.modules.conv.Concat           [1]                           \n",
      " 22                  -1  1   1511424  ultralytics.nn.modules.block.C3k2            [768, 512, 1, True]           \n",
      " 23        [16, 19, 22]  1   1106172  ultralytics.nn.modules.head.Pose             [1, [1, 3], [128, 256, 512]]  \n",
      "YOLO11s-pose summary: 196 layers, 9,714,556 parameters, 9,714,540 gradients, 22.5 GFLOPs\n",
      "\n",
      "Transferred 505/541 items from pretrained weights\n",
      "Freezing layer 'model.23.dfl.conv.weight'\n",
      "\u001b[34m\u001b[1mAMP: \u001b[0mrunning Automatic Mixed Precision (AMP) checks...\n",
      "\u001b[34m\u001b[1mAMP: \u001b[0mchecks passed ✅\n",
      "\u001b[34m\u001b[1mtrain: \u001b[0mFast image access ✅ (ping: 0.0±0.0 ms, read: 1954.5±617.3 MB/s, size: 58.7 KB)\n"
     ]
    },
    {
     "name": "stderr",
     "output_type": "stream",
     "text": [
      "\u001b[34m\u001b[1mtrain: \u001b[0mScanning /user/gr1/delphi/dghezzi/KeyPoint Detection/YOLO_dataset/45000_5000_160_180_800/labels/train... 45000 images, 0 backgrounds, 0 corrupt: 100%|██████████| 45000/45000 [00:33<00:00, 1358.44it/s]\n"
     ]
    },
    {
     "name": "stdout",
     "output_type": "stream",
     "text": [
      "\u001b[34m\u001b[1mtrain: \u001b[0mNew cache created: /user/gr1/delphi/dghezzi/KeyPoint Detection/YOLO_dataset/45000_5000_160_180_800/labels/train.cache\n",
      "WARNING ⚠️ No 'flip_idx' array defined in data.yaml, disabling 'fliplr' and 'flipud' augmentations.\n",
      "\u001b[34m\u001b[1mval: \u001b[0mFast image access ✅ (ping: 0.0±0.0 ms, read: 1410.1±1008.8 MB/s, size: 59.9 KB)\n"
     ]
    },
    {
     "name": "stderr",
     "output_type": "stream",
     "text": [
      "\u001b[34m\u001b[1mval: \u001b[0mScanning /user/gr1/delphi/dghezzi/KeyPoint Detection/YOLO_dataset/45000_5000_160_180_800/labels/val... 5000 images, 0 backgrounds, 0 corrupt: 100%|██████████| 5000/5000 [00:04<00:00, 1238.19it/s]\n"
     ]
    },
    {
     "name": "stdout",
     "output_type": "stream",
     "text": [
      "\u001b[34m\u001b[1mval: \u001b[0mNew cache created: /user/gr1/delphi/dghezzi/KeyPoint Detection/YOLO_dataset/45000_5000_160_180_800/labels/val.cache\n",
      "Plotting labels to /user/gr1/delphi/dghezzi/KeyPoint Detection/Models/Model-45000_5000_160_180_800/training_val2/labels.jpg... \n",
      "\u001b[34m\u001b[1moptimizer:\u001b[0m 'optimizer=auto' found, ignoring 'lr0=0.01' and 'momentum=0.937' and determining best 'optimizer', 'lr0' and 'momentum' automatically... \n",
      "\u001b[34m\u001b[1moptimizer:\u001b[0m SGD(lr=0.01, momentum=0.9) with parameter groups 87 weight(decay=0.0), 97 weight(decay=0.0005), 96 bias(decay=0.0)\n",
      "Image sizes 800 train, 800 val\n",
      "Using 8 dataloader workers\n",
      "Logging results to \u001b[1m/user/gr1/delphi/dghezzi/KeyPoint Detection/Models/Model-45000_5000_160_180_800/training_val2\u001b[0m\n",
      "Starting training for 1000 epochs...\n",
      "\n",
      "      Epoch    GPU_mem   box_loss  pose_loss  kobj_loss   cls_loss   dfl_loss  Instances       Size\n"
     ]
    },
    {
     "name": "stderr",
     "output_type": "stream",
     "text": [
      "     1/1000      17.5G      1.208    0.03411     0.1489      1.026       1.59       1379        800: 100%|██████████| 2813/2813 [09:07<00:00,  5.14it/s]\n",
      "                 Class     Images  Instances      Box(P          R      mAP50  mAP50-95)     Pose(P          R      mAP50  mAP50-95): 100%|██████████| 157/157 [01:55<00:00,  1.36it/s]\n"
     ]
    },
    {
     "name": "stdout",
     "output_type": "stream",
     "text": [
      "                   all       5000     587016      0.729      0.599      0.689      0.363      0.741       0.66      0.763      0.763\n",
      "\n",
      "      Epoch    GPU_mem   box_loss  pose_loss  kobj_loss   cls_loss   dfl_loss  Instances       Size\n"
     ]
    },
    {
     "name": "stderr",
     "output_type": "stream",
     "text": [
      "     2/1000      17.5G     0.8742    0.01909     0.0696     0.6958      1.296       1584        800: 100%|██████████| 2813/2813 [08:03<00:00,  5.82it/s]\n",
      "                 Class     Images  Instances      Box(P          R      mAP50  mAP50-95)     Pose(P          R      mAP50  mAP50-95): 100%|██████████| 157/157 [02:00<00:00,  1.30it/s]\n"
     ]
    },
    {
     "name": "stdout",
     "output_type": "stream",
     "text": [
      "                   all       5000     587016      0.801      0.654      0.773      0.579      0.797      0.674      0.804      0.804\n",
      "\n",
      "      Epoch    GPU_mem   box_loss  pose_loss  kobj_loss   cls_loss   dfl_loss  Instances       Size\n"
     ]
    },
    {
     "name": "stderr",
     "output_type": "stream",
     "text": [
      "     3/1000      19.1G      0.799    0.01677    0.06317     0.6466      1.249       1582        800: 100%|██████████| 2813/2813 [07:57<00:00,  5.90it/s]\n",
      "                 Class     Images  Instances      Box(P          R      mAP50  mAP50-95)     Pose(P          R      mAP50  mAP50-95): 100%|██████████| 157/157 [01:27<00:00,  1.79it/s]\n"
     ]
    },
    {
     "name": "stdout",
     "output_type": "stream",
     "text": [
      "                   all       5000     587016      0.222       0.16      0.109     0.0318      0.656      0.492      0.565      0.558\n",
      "\n",
      "      Epoch    GPU_mem   box_loss  pose_loss  kobj_loss   cls_loss   dfl_loss  Instances       Size\n"
     ]
    },
    {
     "name": "stderr",
     "output_type": "stream",
     "text": [
      "     4/1000      19.1G     0.7447    0.01525     0.0597     0.6113      1.217       1219        800: 100%|██████████| 2813/2813 [07:54<00:00,  5.93it/s]\n",
      "                 Class     Images  Instances      Box(P          R      mAP50  mAP50-95)     Pose(P          R      mAP50  mAP50-95): 100%|██████████| 157/157 [01:57<00:00,  1.33it/s]\n"
     ]
    },
    {
     "name": "stdout",
     "output_type": "stream",
     "text": [
      "                   all       5000     587016      0.681      0.582      0.664      0.457      0.725      0.658      0.758      0.758\n",
      "\n",
      "      Epoch    GPU_mem   box_loss  pose_loss  kobj_loss   cls_loss   dfl_loss  Instances       Size\n"
     ]
    },
    {
     "name": "stderr",
     "output_type": "stream",
     "text": [
      "     5/1000      19.1G     0.7063    0.01437    0.05687     0.5831       1.19       1356        800: 100%|██████████| 2813/2813 [07:55<00:00,  5.92it/s]\n",
      "                 Class     Images  Instances      Box(P          R      mAP50  mAP50-95)     Pose(P          R      mAP50  mAP50-95): 100%|██████████| 157/157 [01:36<00:00,  1.62it/s]\n"
     ]
    },
    {
     "name": "stdout",
     "output_type": "stream",
     "text": [
      "                   all       5000     587016      0.338      0.361      0.278      0.111      0.593      0.555      0.593      0.588\n",
      "\n",
      "      Epoch    GPU_mem   box_loss  pose_loss  kobj_loss   cls_loss   dfl_loss  Instances       Size\n"
     ]
    },
    {
     "name": "stderr",
     "output_type": "stream",
     "text": [
      "     6/1000      19.1G     0.6852    0.01384     0.0554     0.5683      1.178       1738        800: 100%|██████████| 2813/2813 [07:53<00:00,  5.94it/s]\n",
      "                 Class     Images  Instances      Box(P          R      mAP50  mAP50-95)     Pose(P          R      mAP50  mAP50-95): 100%|██████████| 157/157 [01:56<00:00,  1.34it/s]\n"
     ]
    },
    {
     "name": "stdout",
     "output_type": "stream",
     "text": [
      "                   all       5000     587016      0.668      0.585      0.666       0.49      0.723      0.655      0.756      0.755\n",
      "\n",
      "      Epoch    GPU_mem   box_loss  pose_loss  kobj_loss   cls_loss   dfl_loss  Instances       Size\n"
     ]
    },
    {
     "name": "stderr",
     "output_type": "stream",
     "text": [
      "     7/1000      19.1G     0.6721    0.01351    0.05426     0.5567      1.167       1168        800: 100%|██████████| 2813/2813 [07:55<00:00,  5.92it/s]\n",
      "                 Class     Images  Instances      Box(P          R      mAP50  mAP50-95)     Pose(P          R      mAP50  mAP50-95): 100%|██████████| 157/157 [01:56<00:00,  1.35it/s]\n"
     ]
    },
    {
     "name": "stdout",
     "output_type": "stream",
     "text": [
      "                   all       5000     587016      0.523      0.504      0.518      0.333      0.682      0.649      0.725      0.724\n",
      "\n",
      "      Epoch    GPU_mem   box_loss  pose_loss  kobj_loss   cls_loss   dfl_loss  Instances       Size\n"
     ]
    },
    {
     "name": "stderr",
     "output_type": "stream",
     "text": [
      "     8/1000      19.1G     0.6624    0.01325    0.05401     0.5501      1.162       1788        800: 100%|██████████| 2813/2813 [07:55<00:00,  5.92it/s]\n",
      "                 Class     Images  Instances      Box(P          R      mAP50  mAP50-95)     Pose(P          R      mAP50  mAP50-95): 100%|██████████| 157/157 [01:57<00:00,  1.33it/s]\n"
     ]
    },
    {
     "name": "stdout",
     "output_type": "stream",
     "text": [
      "                   all       5000     587016      0.509      0.506      0.506      0.343      0.678      0.644      0.719      0.718\n",
      "\n",
      "      Epoch    GPU_mem   box_loss  pose_loss  kobj_loss   cls_loss   dfl_loss  Instances       Size\n"
     ]
    },
    {
     "name": "stderr",
     "output_type": "stream",
     "text": [
      "     9/1000      19.1G     0.6547    0.01308    0.05333     0.5441      1.157       1512        800: 100%|██████████| 2813/2813 [07:55<00:00,  5.92it/s]\n",
      "                 Class     Images  Instances      Box(P          R      mAP50  mAP50-95)     Pose(P          R      mAP50  mAP50-95): 100%|██████████| 157/157 [01:56<00:00,  1.34it/s]\n"
     ]
    },
    {
     "name": "stdout",
     "output_type": "stream",
     "text": [
      "                   all       5000     587016      0.635       0.58      0.644      0.478      0.714       0.66      0.753      0.753\n",
      "\n",
      "      Epoch    GPU_mem   box_loss  pose_loss  kobj_loss   cls_loss   dfl_loss  Instances       Size\n"
     ]
    },
    {
     "name": "stderr",
     "output_type": "stream",
     "text": [
      "    10/1000      19.1G     0.6482    0.01292    0.05261     0.5388      1.152       1764        800: 100%|██████████| 2813/2813 [07:55<00:00,  5.92it/s]\n",
      "                 Class     Images  Instances      Box(P          R      mAP50  mAP50-95)     Pose(P          R      mAP50  mAP50-95): 100%|██████████| 157/157 [01:57<00:00,  1.34it/s]\n"
     ]
    },
    {
     "name": "stdout",
     "output_type": "stream",
     "text": [
      "                   all       5000     587016      0.423      0.461      0.421      0.275      0.664      0.648       0.71      0.709\n",
      "\n",
      "      Epoch    GPU_mem   box_loss  pose_loss  kobj_loss   cls_loss   dfl_loss  Instances       Size\n"
     ]
    },
    {
     "name": "stderr",
     "output_type": "stream",
     "text": [
      "    11/1000      19.1G     0.6435    0.01282     0.0523     0.5345      1.149       1705        800: 100%|██████████| 2813/2813 [07:54<00:00,  5.92it/s]\n",
      "                 Class     Images  Instances      Box(P          R      mAP50  mAP50-95)     Pose(P          R      mAP50  mAP50-95): 100%|██████████| 157/157 [01:56<00:00,  1.35it/s]\n"
     ]
    },
    {
     "name": "stdout",
     "output_type": "stream",
     "text": [
      "                   all       5000     587016      0.428      0.483      0.438      0.288      0.659      0.651      0.708      0.707\n",
      "\n",
      "      Epoch    GPU_mem   box_loss  pose_loss  kobj_loss   cls_loss   dfl_loss  Instances       Size\n"
     ]
    },
    {
     "name": "stderr",
     "output_type": "stream",
     "text": [
      "    12/1000      19.1G     0.6388    0.01271    0.05207     0.5304      1.146       1537        800: 100%|██████████| 2813/2813 [07:54<00:00,  5.93it/s]\n",
      "                 Class     Images  Instances      Box(P          R      mAP50  mAP50-95)     Pose(P          R      mAP50  mAP50-95): 100%|██████████| 157/157 [01:57<00:00,  1.34it/s]\n"
     ]
    },
    {
     "name": "stdout",
     "output_type": "stream",
     "text": [
      "                   all       5000     587016       0.34      0.416      0.327       0.21      0.644      0.637      0.689      0.688\n",
      "\n",
      "      Epoch    GPU_mem   box_loss  pose_loss  kobj_loss   cls_loss   dfl_loss  Instances       Size\n"
     ]
    },
    {
     "name": "stderr",
     "output_type": "stream",
     "text": [
      "    13/1000      19.1G     0.6356    0.01264    0.05183     0.5273      1.144       1337        800: 100%|██████████| 2813/2813 [07:55<00:00,  5.91it/s]\n",
      "                 Class     Images  Instances      Box(P          R      mAP50  mAP50-95)     Pose(P          R      mAP50  mAP50-95): 100%|██████████| 157/157 [01:53<00:00,  1.38it/s]\n"
     ]
    },
    {
     "name": "stdout",
     "output_type": "stream",
     "text": [
      "                   all       5000     587016      0.221      0.302      0.193      0.115      0.624      0.628      0.666      0.665\n",
      "\n",
      "      Epoch    GPU_mem   box_loss  pose_loss  kobj_loss   cls_loss   dfl_loss  Instances       Size\n"
     ]
    },
    {
     "name": "stderr",
     "output_type": "stream",
     "text": [
      "    14/1000      19.1G     0.6328    0.01255     0.0515     0.5254      1.142       1454        800: 100%|██████████| 2813/2813 [07:56<00:00,  5.91it/s]\n",
      "                 Class     Images  Instances      Box(P          R      mAP50  mAP50-95)     Pose(P          R      mAP50  mAP50-95): 100%|██████████| 157/157 [01:53<00:00,  1.39it/s]\n"
     ]
    },
    {
     "name": "stdout",
     "output_type": "stream",
     "text": [
      "                   all       5000     587016      0.163      0.218      0.122     0.0661      0.619      0.624      0.657      0.655\n",
      "\n",
      "      Epoch    GPU_mem   box_loss  pose_loss  kobj_loss   cls_loss   dfl_loss  Instances       Size\n"
     ]
    },
    {
     "name": "stderr",
     "output_type": "stream",
     "text": [
      "    15/1000      19.1G     0.6297     0.0125    0.05123     0.5229      1.139       1587        800: 100%|██████████| 2813/2813 [07:56<00:00,  5.91it/s]\n",
      "                 Class     Images  Instances      Box(P          R      mAP50  mAP50-95)     Pose(P          R      mAP50  mAP50-95): 100%|██████████| 157/157 [01:52<00:00,  1.39it/s]\n"
     ]
    },
    {
     "name": "stdout",
     "output_type": "stream",
     "text": [
      "                   all       5000     587016      0.108      0.133     0.0611     0.0286      0.607      0.609      0.636      0.633\n",
      "\n",
      "      Epoch    GPU_mem   box_loss  pose_loss  kobj_loss   cls_loss   dfl_loss  Instances       Size\n"
     ]
    },
    {
     "name": "stderr",
     "output_type": "stream",
     "text": [
      "    16/1000      19.1G     0.6277    0.01242    0.05108     0.5212      1.139       1809        800: 100%|██████████| 2813/2813 [07:55<00:00,  5.91it/s]\n",
      "                 Class     Images  Instances      Box(P          R      mAP50  mAP50-95)     Pose(P          R      mAP50  mAP50-95): 100%|██████████| 157/157 [01:52<00:00,  1.39it/s]\n"
     ]
    },
    {
     "name": "stdout",
     "output_type": "stream",
     "text": [
      "                   all       5000     587016        0.1      0.118     0.0537     0.0248      0.605      0.606      0.632      0.629\n",
      "\n",
      "      Epoch    GPU_mem   box_loss  pose_loss  kobj_loss   cls_loss   dfl_loss  Instances       Size\n"
     ]
    },
    {
     "name": "stderr",
     "output_type": "stream",
     "text": [
      "    17/1000      19.1G     0.6254    0.01236    0.05123     0.5185      1.137       1678        800: 100%|██████████| 2813/2813 [07:55<00:00,  5.92it/s]\n",
      "                 Class     Images  Instances      Box(P          R      mAP50  mAP50-95)     Pose(P          R      mAP50  mAP50-95): 100%|██████████| 157/157 [01:52<00:00,  1.40it/s]\n"
     ]
    },
    {
     "name": "stdout",
     "output_type": "stream",
     "text": [
      "                   all       5000     587016      0.103      0.125     0.0564      0.026      0.605      0.613      0.636      0.634\n",
      "\n",
      "      Epoch    GPU_mem   box_loss  pose_loss  kobj_loss   cls_loss   dfl_loss  Instances       Size\n"
     ]
    },
    {
     "name": "stderr",
     "output_type": "stream",
     "text": [
      "    18/1000      19.1G     0.6237    0.01236    0.05085     0.5168      1.135       1441        800: 100%|██████████| 2813/2813 [07:55<00:00,  5.92it/s]\n",
      "                 Class     Images  Instances      Box(P          R      mAP50  mAP50-95)     Pose(P          R      mAP50  mAP50-95): 100%|██████████| 157/157 [01:52<00:00,  1.39it/s]\n"
     ]
    },
    {
     "name": "stdout",
     "output_type": "stream",
     "text": [
      "                   all       5000     587016      0.106      0.131       0.06     0.0281      0.606      0.612      0.637      0.634\n",
      "\n",
      "      Epoch    GPU_mem   box_loss  pose_loss  kobj_loss   cls_loss   dfl_loss  Instances       Size\n"
     ]
    },
    {
     "name": "stderr",
     "output_type": "stream",
     "text": [
      "    19/1000      19.1G     0.6217    0.01228    0.05061     0.5152      1.134       1069        800: 100%|██████████| 2813/2813 [07:54<00:00,  5.93it/s]\n",
      "                 Class     Images  Instances      Box(P          R      mAP50  mAP50-95)     Pose(P          R      mAP50  mAP50-95): 100%|██████████| 157/157 [01:52<00:00,  1.40it/s]\n"
     ]
    },
    {
     "name": "stdout",
     "output_type": "stream",
     "text": [
      "                   all       5000     587016      0.126       0.15      0.076     0.0375      0.611      0.615      0.643      0.641\n",
      "\n",
      "      Epoch    GPU_mem   box_loss  pose_loss  kobj_loss   cls_loss   dfl_loss  Instances       Size\n"
     ]
    },
    {
     "name": "stderr",
     "output_type": "stream",
     "text": [
      "    20/1000      19.1G     0.6205    0.01229    0.05082     0.5145      1.133       1567        800: 100%|██████████| 2813/2813 [07:56<00:00,  5.91it/s]\n",
      "                 Class     Images  Instances      Box(P          R      mAP50  mAP50-95)     Pose(P          R      mAP50  mAP50-95): 100%|██████████| 157/157 [01:51<00:00,  1.41it/s]\n"
     ]
    },
    {
     "name": "stdout",
     "output_type": "stream",
     "text": [
      "                   all       5000     587016      0.128      0.146     0.0758     0.0374      0.612      0.613      0.642       0.64\n",
      "\n",
      "      Epoch    GPU_mem   box_loss  pose_loss  kobj_loss   cls_loss   dfl_loss  Instances       Size\n"
     ]
    },
    {
     "name": "stderr",
     "output_type": "stream",
     "text": [
      "    21/1000      19.1G      0.619    0.01225    0.05089     0.5126      1.131       1543        800: 100%|██████████| 2813/2813 [07:56<00:00,  5.90it/s]\n",
      "                 Class     Images  Instances      Box(P          R      mAP50  mAP50-95)     Pose(P          R      mAP50  mAP50-95): 100%|██████████| 157/157 [01:51<00:00,  1.41it/s]\n"
     ]
    },
    {
     "name": "stdout",
     "output_type": "stream",
     "text": [
      "                   all       5000     587016      0.125      0.139     0.0719     0.0351      0.611      0.614      0.641      0.639\n",
      "\n",
      "      Epoch    GPU_mem   box_loss  pose_loss  kobj_loss   cls_loss   dfl_loss  Instances       Size\n"
     ]
    },
    {
     "name": "stderr",
     "output_type": "stream",
     "text": [
      "    22/1000      19.1G     0.6176     0.0122    0.05035     0.5117      1.131       1528        800: 100%|██████████| 2813/2813 [07:54<00:00,  5.93it/s]\n",
      "                 Class     Images  Instances      Box(P          R      mAP50  mAP50-95)     Pose(P          R      mAP50  mAP50-95): 100%|██████████| 157/157 [01:51<00:00,  1.41it/s]\n"
     ]
    },
    {
     "name": "stdout",
     "output_type": "stream",
     "text": [
      "                   all       5000     587016      0.118      0.137     0.0681      0.033      0.611      0.613       0.64      0.638\n",
      "\u001b[34m\u001b[1mEarlyStopping: \u001b[0mTraining stopped early as no improvement observed in last 20 epochs. Best results observed at epoch 2, best model saved as best.pt.\n",
      "To update EarlyStopping(patience=20) pass a new patience value, i.e. `patience=300` or use `patience=0` to disable EarlyStopping.\n",
      "\n",
      "22 epochs completed in 3.627 hours.\n",
      "Optimizer stripped from /user/gr1/delphi/dghezzi/KeyPoint Detection/Models/Model-45000_5000_160_180_800/training_val2/weights/last.pt, 19.8MB\n",
      "Optimizer stripped from /user/gr1/delphi/dghezzi/KeyPoint Detection/Models/Model-45000_5000_160_180_800/training_val2/weights/best.pt, 19.8MB\n",
      "\n",
      "Validating /user/gr1/delphi/dghezzi/KeyPoint Detection/Models/Model-45000_5000_160_180_800/training_val2/weights/best.pt...\n",
      "Ultralytics 8.3.168 🚀 Python-3.9.19 torch-2.0.0+cu117 CUDA:0 (NVIDIA RTX A6000, 48566MiB)\n",
      "YOLO11s-pose summary (fused): 109 layers, 9,699,372 parameters, 0 gradients, 22.3 GFLOPs\n"
     ]
    },
    {
     "name": "stderr",
     "output_type": "stream",
     "text": [
      "                 Class     Images  Instances      Box(P          R      mAP50  mAP50-95)     Pose(P          R      mAP50  mAP50-95): 100%|██████████| 157/157 [03:20<00:00,  1.28s/it]\n"
     ]
    },
    {
     "name": "stdout",
     "output_type": "stream",
     "text": [
      "                   all       5000     587016      0.801      0.653      0.773      0.579      0.798      0.674      0.804      0.804\n",
      "Speed: 0.1ms preprocess, 1.9ms inference, 0.0ms loss, 1.8ms postprocess per image\n",
      "Results saved to \u001b[1m/user/gr1/delphi/dghezzi/KeyPoint Detection/Models/Model-45000_5000_160_180_800/training_val2\u001b[0m\n"
     ]
    },
    {
     "ename": "FileNotFoundError",
     "evalue": "[Errno 2] No such file or directory: '/user/gr1/delphi/dghezzi/KeyPoint Detection/Models/Model-45000_5000_160_180_800/training_val/weights/best.pt'",
     "output_type": "error",
     "traceback": [
      "\u001b[0;31m---------------------------------------------------------------------------\u001b[0m",
      "\u001b[0;31mFileNotFoundError\u001b[0m                         Traceback (most recent call last)",
      "Cell \u001b[0;32mIn[20], line 12\u001b[0m\n\u001b[1;32m     10\u001b[0m best_model_path \u001b[38;5;241m=\u001b[39m os\u001b[38;5;241m.\u001b[39mpath\u001b[38;5;241m.\u001b[39mjoin(\u001b[38;5;124mf\u001b[39m\u001b[38;5;124m'\u001b[39m\u001b[38;5;132;01m{\u001b[39;00mmodel_directory\u001b[38;5;132;01m}\u001b[39;00m\u001b[38;5;124m/training_val/weights\u001b[39m\u001b[38;5;124m'\u001b[39m, \u001b[38;5;124m'\u001b[39m\u001b[38;5;124mbest.pt\u001b[39m\u001b[38;5;124m'\u001b[39m)\n\u001b[1;32m     11\u001b[0m \u001b[38;5;28;01mif\u001b[39;00m os\u001b[38;5;241m.\u001b[39mpath\u001b[38;5;241m.\u001b[39mexists(\u001b[38;5;124mf\u001b[39m\u001b[38;5;124m'\u001b[39m\u001b[38;5;132;01m{\u001b[39;00mmodel_directory\u001b[38;5;132;01m}\u001b[39;00m\u001b[38;5;124m/training_val/weights\u001b[39m\u001b[38;5;124m'\u001b[39m):\n\u001b[0;32m---> 12\u001b[0m     \u001b[43mshutil\u001b[49m\u001b[38;5;241;43m.\u001b[39;49m\u001b[43mcopy\u001b[49m\u001b[43m(\u001b[49m\u001b[43mbest_model_path\u001b[49m\u001b[43m,\u001b[49m\u001b[43m \u001b[49m\u001b[43mmodel_directory\u001b[49m\u001b[43m)\u001b[49m\n",
      "File \u001b[0;32m/usr/lib64/python3.9/shutil.py:427\u001b[0m, in \u001b[0;36mcopy\u001b[0;34m(src, dst, follow_symlinks)\u001b[0m\n\u001b[1;32m    425\u001b[0m \u001b[38;5;28;01mif\u001b[39;00m os\u001b[38;5;241m.\u001b[39mpath\u001b[38;5;241m.\u001b[39misdir(dst):\n\u001b[1;32m    426\u001b[0m     dst \u001b[38;5;241m=\u001b[39m os\u001b[38;5;241m.\u001b[39mpath\u001b[38;5;241m.\u001b[39mjoin(dst, os\u001b[38;5;241m.\u001b[39mpath\u001b[38;5;241m.\u001b[39mbasename(src))\n\u001b[0;32m--> 427\u001b[0m \u001b[43mcopyfile\u001b[49m\u001b[43m(\u001b[49m\u001b[43msrc\u001b[49m\u001b[43m,\u001b[49m\u001b[43m \u001b[49m\u001b[43mdst\u001b[49m\u001b[43m,\u001b[49m\u001b[43m \u001b[49m\u001b[43mfollow_symlinks\u001b[49m\u001b[38;5;241;43m=\u001b[39;49m\u001b[43mfollow_symlinks\u001b[49m\u001b[43m)\u001b[49m\n\u001b[1;32m    428\u001b[0m copymode(src, dst, follow_symlinks\u001b[38;5;241m=\u001b[39mfollow_symlinks)\n\u001b[1;32m    429\u001b[0m \u001b[38;5;28;01mreturn\u001b[39;00m dst\n",
      "File \u001b[0;32m/usr/lib64/python3.9/shutil.py:264\u001b[0m, in \u001b[0;36mcopyfile\u001b[0;34m(src, dst, follow_symlinks)\u001b[0m\n\u001b[1;32m    262\u001b[0m     os\u001b[38;5;241m.\u001b[39msymlink(os\u001b[38;5;241m.\u001b[39mreadlink(src), dst)\n\u001b[1;32m    263\u001b[0m \u001b[38;5;28;01melse\u001b[39;00m:\n\u001b[0;32m--> 264\u001b[0m     \u001b[38;5;28;01mwith\u001b[39;00m \u001b[38;5;28;43mopen\u001b[39;49m\u001b[43m(\u001b[49m\u001b[43msrc\u001b[49m\u001b[43m,\u001b[49m\u001b[43m \u001b[49m\u001b[38;5;124;43m'\u001b[39;49m\u001b[38;5;124;43mrb\u001b[39;49m\u001b[38;5;124;43m'\u001b[39;49m\u001b[43m)\u001b[49m \u001b[38;5;28;01mas\u001b[39;00m fsrc:\n\u001b[1;32m    265\u001b[0m         \u001b[38;5;28;01mtry\u001b[39;00m:\n\u001b[1;32m    266\u001b[0m             \u001b[38;5;28;01mwith\u001b[39;00m \u001b[38;5;28mopen\u001b[39m(dst, \u001b[38;5;124m'\u001b[39m\u001b[38;5;124mwb\u001b[39m\u001b[38;5;124m'\u001b[39m) \u001b[38;5;28;01mas\u001b[39;00m fdst:\n\u001b[1;32m    267\u001b[0m                 \u001b[38;5;66;03m# macOS\u001b[39;00m\n",
      "\u001b[0;31mFileNotFoundError\u001b[0m: [Errno 2] No such file or directory: '/user/gr1/delphi/dghezzi/KeyPoint Detection/Models/Model-45000_5000_160_180_800/training_val/weights/best.pt'"
     ]
    }
   ],
   "source": [
    "datapath='/user/gr1/delphi/dghezzi/KeyPoint Detection/YOLO_dataset/45000_5000_160_180_800/45000_5000_160_180_800.yaml'\n",
    "model_directory = '/user/gr1/delphi/dghezzi/KeyPoint Detection/Models/Model-45000_5000_160_180_800'\n",
    "\n",
    "\n",
    "model = YOLO('yolo11s-pose.pt')\n",
    "result = model.train(data=datapath, epochs=1000, imgsz=800, patience=20, \n",
    "                     name='training_val', save_period=5, project=model_directory)   \n",
    "\n",
    "# Copy the best model to the model directory\n",
    "best_model_path = os.path.join(f'{model_directory}/training_val/weights', 'best.pt')\n",
    "if os.path.exists(f'{model_directory}/training_val/weights'):\n",
    "    shutil.copy(best_model_path, model_directory)         "
   ]
  },
  {
   "cell_type": "code",
   "execution_count": null,
   "metadata": {
    "trusted": true
   },
   "outputs": [
    {
     "name": "stdout",
     "output_type": "stream",
     "text": [
      "Ultralytics 8.3.168 🚀 Python-3.9.19 torch-2.0.0+cu117 CUDA:0 (NVIDIA RTX A6000, 48566MiB)\n"
     ]
    },
    {
     "name": "stdout",
     "output_type": "stream",
     "text": [
      "YOLO11s-pose summary (fused): 109 layers, 9,699,372 parameters, 0 gradients, 22.3 GFLOPs\n",
      "\u001b[34m\u001b[1mval: \u001b[0mFast image access ✅ (ping: 0.0±0.0 ms, read: 1992.2±212.8 MB/s, size: 58.1 KB)\n"
     ]
    },
    {
     "name": "stderr",
     "output_type": "stream",
     "text": [
      "\u001b[34m\u001b[1mval: \u001b[0mScanning /user/gr1/delphi/dghezzi/KeyPoint Detection/YOLO_dataset/100/labels/val.cache... 8 images, 0 backgrounds, 4 corrupt: 100%|██████████| 8/8 [00:00<?, ?it/s]"
     ]
    },
    {
     "name": "stdout",
     "output_type": "stream",
     "text": [
      "\u001b[34m\u001b[1mval: \u001b[0m/user/gr1/delphi/dghezzi/KeyPoint Detection/YOLO_dataset/100/images/val/event_11.jpg: ignoring corrupt image/label: non-normalized or out of bounds coordinates [     1.0763]\n",
      "\u001b[34m\u001b[1mval: \u001b[0m/user/gr1/delphi/dghezzi/KeyPoint Detection/YOLO_dataset/100/images/val/event_21.jpg: ignoring corrupt image/label: non-normalized or out of bounds coordinates [       1.02]\n",
      "\u001b[34m\u001b[1mval: \u001b[0m/user/gr1/delphi/dghezzi/KeyPoint Detection/YOLO_dataset/100/images/val/event_34.jpg: ignoring corrupt image/label: non-normalized or out of bounds coordinates [     1.0159]\n",
      "\u001b[34m\u001b[1mval: \u001b[0m/user/gr1/delphi/dghezzi/KeyPoint Detection/YOLO_dataset/100/images/val/event_37.jpg: ignoring corrupt image/label: non-normalized or out of bounds coordinates [      1.032]\n"
     ]
    },
    {
     "name": "stderr",
     "output_type": "stream",
     "text": [
      "\n",
      "                 Class     Images  Instances      Box(P          R      mAP50  mAP50-95)     Pose(P          R      mAP50  mAP50-95): 100%|██████████| 1/1 [00:00<00:00,  7.89it/s]\n"
     ]
    },
    {
     "name": "stdout",
     "output_type": "stream",
     "text": [
      "                   all          4        474       0.25    0.00211      0.126     0.0251          1    0.00844      0.504      0.504\n",
      "Speed: 0.2ms preprocess, 26.1ms inference, 0.0ms loss, 0.7ms postprocess per image\n",
      "Results saved to \u001b[1mruns/pose/val\u001b[0m\n"
     ]
    }
   ],
   "source": [
    "'''\n",
    "from ultralytics import YOLO\n",
    "import matplotlib.pyplot as plt\n",
    "\n",
    "# Carica il modello\n",
    "model = YOLO(f'{model_directory}/circle_keypoints/weights/best.pt')\n",
    "\n",
    "# Valutazione\n",
    "metrics = model.val()\n",
    "'''"
   ]
  },
  {
   "cell_type": "code",
   "execution_count": null,
   "metadata": {
    "trusted": true
   },
   "outputs": [
    {
     "data": {
      "text/plain": [
       "'\\nlines = []\\n\\n# Bounding Box Metrics\\nlines.append(\"Bounding Box Metrics\")\\nlines.append(f\" Precision (box):         {metrics.box.mp:.3f}\")     # media precision\\nlines.append(f\" Recall (box):            {metrics.box.mr:.3f}\")     # media recall\\nlines.append(f\" F1 Score (box):          {(2 * metrics.box.mp * metrics.box.mr / (metrics.box.mp + metrics.box.mr + 1e-16)):.3f}\")  # calcolo F1 manuale\\nlines.append(f\" mAP@0.5:0.95 (box):      {metrics.box.map:.3f}\")    # media AP su tutte soglie\\nlines.append(f\" mAP@0.5 (box):           {metrics.box.map50:.3f}\")   # AP a 0.5 IoU\\nlines.append(f\" mAP@0.75 (box):          {metrics.box.map75:.3f}\")   # AP a 0.75 IoU\\nlines.append(\"\")\\n\\n# Keypoint Metrics\\nlines.append(\"Keypoint Metrics\")\\nlines.append(f\" Precision (Keypoint):        {metrics.pose.mp:.3f}\")     # media precision pose\\nlines.append(f\" Recall (Keypoint):           {metrics.pose.mr:.3f}\")     # media recall pose\\nlines.append(f\" F1 Score (Keypoint):         {(2 * metrics.pose.mp * metrics.pose.mr / (metrics.pose.mp + metrics.pose.mr + 1e-16)):.3f}\")  # F1 pose manuale\\nlines.append(f\" mAP@0.5:0.95 (Keypoint):     {metrics.pose.map:.3f}\")    # mAP pose media tutte soglie\\nlines.append(f\" mAP@0.5 (Keypoint):          {metrics.pose.map50:.3f}\")   # mAP pose 0.5 IoU\\nlines.append(f\" mAP@0.75 (Keypoint):         {metrics.pose.map75:.3f}\")   # mAP pose 0.75 IoU\\n\\n\\n# Salvataggio su file .txt\\noutput_path = \"/kaggle/working/metrics_summary.txt\"\\nwith open(output_path, \"w\") as f:\\n    f.write(\"\\n\".join(lines))\\n\\nprint(f\"✅ Metriche salvate in: {output_path}\")\\n\\nwith open(output_path, \"r\") as f:\\n    print(\"\\n\" + f.read())\\n'"
      ]
     },
     "execution_count": 6,
     "metadata": {},
     "output_type": "execute_result"
    }
   ],
   "source": [
    "'''\n",
    "lines = []\n",
    "\n",
    "# Bounding Box Metrics\n",
    "lines.append(\"Bounding Box Metrics\")\n",
    "lines.append(f\" Precision (box):         {metrics.box.mp:.3f}\")     # media precision\n",
    "lines.append(f\" Recall (box):            {metrics.box.mr:.3f}\")     # media recall\n",
    "lines.append(f\" F1 Score (box):          {(2 * metrics.box.mp * metrics.box.mr / (metrics.box.mp + metrics.box.mr + 1e-16)):.3f}\")  # calcolo F1 manuale\n",
    "lines.append(f\" mAP@0.5:0.95 (box):      {metrics.box.map:.3f}\")    # media AP su tutte soglie\n",
    "lines.append(f\" mAP@0.5 (box):           {metrics.box.map50:.3f}\")   # AP a 0.5 IoU\n",
    "lines.append(f\" mAP@0.75 (box):          {metrics.box.map75:.3f}\")   # AP a 0.75 IoU\n",
    "lines.append(\"\")\n",
    "\n",
    "# Keypoint Metrics\n",
    "lines.append(\"Keypoint Metrics\")\n",
    "lines.append(f\" Precision (Keypoint):        {metrics.pose.mp:.3f}\")     # media precision pose\n",
    "lines.append(f\" Recall (Keypoint):           {metrics.pose.mr:.3f}\")     # media recall pose\n",
    "lines.append(f\" F1 Score (Keypoint):         {(2 * metrics.pose.mp * metrics.pose.mr / (metrics.pose.mp + metrics.pose.mr + 1e-16)):.3f}\")  # F1 pose manuale\n",
    "lines.append(f\" mAP@0.5:0.95 (Keypoint):     {metrics.pose.map:.3f}\")    # mAP pose media tutte soglie\n",
    "lines.append(f\" mAP@0.5 (Keypoint):          {metrics.pose.map50:.3f}\")   # mAP pose 0.5 IoU\n",
    "lines.append(f\" mAP@0.75 (Keypoint):         {metrics.pose.map75:.3f}\")   # mAP pose 0.75 IoU\n",
    "\n",
    "\n",
    "# Salvataggio su file .txt\n",
    "output_path = \"/kaggle/working/metrics_summary.txt\"\n",
    "with open(output_path, \"w\") as f:\n",
    "    f.write(\"\\n\".join(lines))\n",
    "\n",
    "print(f\"✅ Metriche salvate in: {output_path}\")\n",
    "\n",
    "with open(output_path, \"r\") as f:\n",
    "    print(\"\\n\" + f.read())\n",
    "'''"
   ]
  }
 ],
 "metadata": {
  "kaggle": {
   "accelerator": "nvidiaTeslaT4",
   "dataSources": [
    {
     "datasetId": 7725290,
     "sourceId": 12259583,
     "sourceType": "datasetVersion"
    },
    {
     "datasetId": 7781105,
     "sourceId": 12342890,
     "sourceType": "datasetVersion"
    },
    {
     "datasetId": 7899294,
     "sourceId": 12514772,
     "sourceType": "datasetVersion"
    }
   ],
   "dockerImageVersionId": 31041,
   "isGpuEnabled": true,
   "isInternetEnabled": true,
   "language": "python",
   "sourceType": "notebook"
  },
  "kernelspec": {
   "display_name": ".venv",
   "language": "python",
   "name": "python3"
  },
  "language_info": {
   "codemirror_mode": {
    "name": "ipython",
    "version": 3
   },
   "file_extension": ".py",
   "mimetype": "text/x-python",
   "name": "python",
   "nbconvert_exporter": "python",
   "pygments_lexer": "ipython3",
   "version": "3.9.19"
  }
 },
 "nbformat": 4,
 "nbformat_minor": 4
}
