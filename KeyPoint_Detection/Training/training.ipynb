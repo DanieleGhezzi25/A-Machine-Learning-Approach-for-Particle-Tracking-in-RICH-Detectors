{
 "cells": [
  {
   "cell_type": "code",
   "execution_count": 8,
   "metadata": {
    "execution": {
     "iopub.execute_input": "2025-07-19T11:39:29.737605Z",
     "iopub.status.busy": "2025-07-19T11:39:29.736853Z",
     "iopub.status.idle": "2025-07-19T11:39:32.944535Z",
     "shell.execute_reply": "2025-07-19T11:39:32.943503Z",
     "shell.execute_reply.started": "2025-07-19T11:39:29.737573Z"
    },
    "trusted": true
   },
   "outputs": [],
   "source": [
    "!pip install ultralytics --quiet\n",
    "\n",
    "# install the model once\n",
    "# !wget https://github.com/ultralytics/assets/releases/download/v8.3.0/yolo11n-pose.pt --quiet"
   ]
  },
  {
   "cell_type": "code",
   "execution_count": 9,
   "metadata": {
    "_cell_guid": "b1076dfc-b9ad-4769-8c92-a6c4dae69d19",
    "_uuid": "8f2839f25d086af736a60e9eeb907d3b93b6e0e5",
    "execution": {
     "iopub.execute_input": "2025-07-19T11:39:36.807625Z",
     "iopub.status.busy": "2025-07-19T11:39:36.807282Z",
     "iopub.status.idle": "2025-07-19T11:39:38.683204Z",
     "shell.execute_reply": "2025-07-19T11:39:38.682484Z",
     "shell.execute_reply.started": "2025-07-19T11:39:36.807579Z"
    },
    "trusted": true
   },
   "outputs": [
    {
     "name": "stdout",
     "output_type": "stream",
     "text": [
      "Ultralytics 8.3.168 🚀 Python-3.9.19 torch-2.0.0+cu117 CUDA:0 (NVIDIA RTX A6000, 48566MiB)\n",
      "Setup complete ✅ (48 CPUs, 125.2 GB RAM, 21.2/69.9 GB disk)\n"
     ]
    }
   ],
   "source": [
    "from ultralytics import YOLO \n",
    "import ultralytics\n",
    "import os\n",
    "import shutil\n",
    "\n",
    "ultralytics.checks()"
   ]
  },
  {
   "cell_type": "code",
   "execution_count": 10,
   "metadata": {
    "execution": {
     "iopub.execute_input": "2025-07-19T11:39:58.088012Z",
     "iopub.status.busy": "2025-07-19T11:39:58.087720Z"
    },
    "trusted": true
   },
   "outputs": [
    {
     "name": "stdout",
     "output_type": "stream",
     "text": [
      "New https://pypi.org/project/ultralytics/8.3.169 available 😃 Update with 'pip install -U ultralytics'\n",
      "Ultralytics 8.3.168 🚀 Python-3.9.19 torch-2.0.0+cu117 CUDA:0 (NVIDIA RTX A6000, 48566MiB)\n",
      "\u001b[34m\u001b[1mengine/trainer: \u001b[0magnostic_nms=False, amp=True, augment=False, auto_augment=randaugment, batch=16, bgr=0.0, box=7.5, cache=False, cfg=None, classes=None, close_mosaic=10, cls=0.5, conf=None, copy_paste=0.0, copy_paste_mode=flip, cos_lr=False, cutmix=0.0, data=/user/gr1/delphi/dghezzi/KeyPoint_Detection/YOLO_dataset/45000_5000_160_180_800/45000_5000_160_180_800.yaml, degrees=0.0, deterministic=True, device=None, dfl=1.5, dnn=False, dropout=0.0, dynamic=False, embed=None, epochs=1000, erasing=0.4, exist_ok=False, fliplr=0.5, flipud=0.0, format=torchscript, fraction=1.0, freeze=None, half=False, hsv_h=0.015, hsv_s=0.7, hsv_v=0.4, imgsz=800, int8=False, iou=0.7, keras=False, kobj=1.0, line_width=None, lr0=0.01, lrf=0.01, mask_ratio=4, max_det=300, mixup=0.0, mode=train, model=yolo11s-pose.pt, momentum=0.937, mosaic=1.0, multi_scale=False, name=training_val3, nbs=64, nms=False, opset=None, optimize=False, optimizer=auto, overlap_mask=True, patience=3, perspective=0.0, plots=True, pose=12.0, pretrained=True, profile=False, project=/user/gr1/delphi/dghezzi/KeyPoint_Detection/Models/Model-45000_5000_160_180_800_2epochs, rect=False, resume=False, retina_masks=False, save=True, save_conf=False, save_crop=False, save_dir=/user/gr1/delphi/dghezzi/KeyPoint_Detection/Models/Model-45000_5000_160_180_800_2epochs/training_val3, save_frames=False, save_json=False, save_period=5, save_txt=False, scale=0.5, seed=0, shear=0.0, show=False, show_boxes=True, show_conf=True, show_labels=True, simplify=True, single_cls=False, source=None, split=val, stream_buffer=False, task=pose, time=None, tracker=botsort.yaml, translate=0.1, val=True, verbose=True, vid_stride=1, visualize=False, warmup_bias_lr=0.1, warmup_epochs=3.0, warmup_momentum=0.8, weight_decay=0.0005, workers=8, workspace=None\n"
     ]
    },
    {
     "name": "stdout",
     "output_type": "stream",
     "text": [
      "Overriding model.yaml kpt_shape=[17, 3] with kpt_shape=[1, 3]\n",
      "Overriding model.yaml nc=80 with nc=1\n",
      "\n",
      "                   from  n    params  module                                       arguments                     \n",
      "  0                  -1  1       928  ultralytics.nn.modules.conv.Conv             [3, 32, 3, 2]                 \n",
      "  1                  -1  1     18560  ultralytics.nn.modules.conv.Conv             [32, 64, 3, 2]                \n",
      "  2                  -1  1     26080  ultralytics.nn.modules.block.C3k2            [64, 128, 1, False, 0.25]     \n",
      "  3                  -1  1    147712  ultralytics.nn.modules.conv.Conv             [128, 128, 3, 2]              \n",
      "  4                  -1  1    103360  ultralytics.nn.modules.block.C3k2            [128, 256, 1, False, 0.25]    \n",
      "  5                  -1  1    590336  ultralytics.nn.modules.conv.Conv             [256, 256, 3, 2]              \n",
      "  6                  -1  1    346112  ultralytics.nn.modules.block.C3k2            [256, 256, 1, True]           \n",
      "  7                  -1  1   1180672  ultralytics.nn.modules.conv.Conv             [256, 512, 3, 2]              \n",
      "  8                  -1  1   1380352  ultralytics.nn.modules.block.C3k2            [512, 512, 1, True]           \n",
      "  9                  -1  1    656896  ultralytics.nn.modules.block.SPPF            [512, 512, 5]                 \n",
      " 10                  -1  1    990976  ultralytics.nn.modules.block.C2PSA           [512, 512, 1]                 \n",
      " 11                  -1  1         0  torch.nn.modules.upsampling.Upsample         [None, 2, 'nearest']          \n",
      " 12             [-1, 6]  1         0  ultralytics.nn.modules.conv.Concat           [1]                           \n",
      " 13                  -1  1    443776  ultralytics.nn.modules.block.C3k2            [768, 256, 1, False]          \n",
      " 14                  -1  1         0  torch.nn.modules.upsampling.Upsample         [None, 2, 'nearest']          \n",
      " 15             [-1, 4]  1         0  ultralytics.nn.modules.conv.Concat           [1]                           \n",
      " 16                  -1  1    127680  ultralytics.nn.modules.block.C3k2            [512, 128, 1, False]          \n",
      " 17                  -1  1    147712  ultralytics.nn.modules.conv.Conv             [128, 128, 3, 2]              \n",
      " 18            [-1, 13]  1         0  ultralytics.nn.modules.conv.Concat           [1]                           \n",
      " 19                  -1  1    345472  ultralytics.nn.modules.block.C3k2            [384, 256, 1, False]          \n",
      " 20                  -1  1    590336  ultralytics.nn.modules.conv.Conv             [256, 256, 3, 2]              \n",
      " 21            [-1, 10]  1         0  ultralytics.nn.modules.conv.Concat           [1]                           \n",
      " 22                  -1  1   1511424  ultralytics.nn.modules.block.C3k2            [768, 512, 1, True]           \n",
      " 23        [16, 19, 22]  1   1106172  ultralytics.nn.modules.head.Pose             [1, [1, 3], [128, 256, 512]]  \n",
      "YOLO11s-pose summary: 196 layers, 9,714,556 parameters, 9,714,540 gradients, 22.5 GFLOPs\n",
      "\n",
      "Transferred 505/541 items from pretrained weights\n",
      "Freezing layer 'model.23.dfl.conv.weight'\n",
      "\u001b[34m\u001b[1mAMP: \u001b[0mrunning Automatic Mixed Precision (AMP) checks...\n",
      "\u001b[34m\u001b[1mAMP: \u001b[0mchecks passed ✅\n",
      "\u001b[34m\u001b[1mtrain: \u001b[0mFast image access ✅ (ping: 0.0±0.0 ms, read: 2089.4±633.4 MB/s, size: 58.7 KB)\n"
     ]
    },
    {
     "name": "stderr",
     "output_type": "stream",
     "text": [
      "\u001b[34m\u001b[1mtrain: \u001b[0mScanning /user/gr1/delphi/dghezzi/KeyPoint_Detection/YOLO_dataset/45000_5000_160_180_800/labels/train... 45000 images, 0 backgrounds, 0 corrupt: 100%|██████████| 45000/45000 [00:33<00:00, 1363.52it/s]\n"
     ]
    },
    {
     "name": "stdout",
     "output_type": "stream",
     "text": [
      "\u001b[34m\u001b[1mtrain: \u001b[0mNew cache created: /user/gr1/delphi/dghezzi/KeyPoint_Detection/YOLO_dataset/45000_5000_160_180_800/labels/train.cache\n",
      "WARNING ⚠️ No 'flip_idx' array defined in data.yaml, disabling 'fliplr' and 'flipud' augmentations.\n",
      "\u001b[34m\u001b[1mval: \u001b[0mFast image access ✅ (ping: 0.0±0.0 ms, read: 719.4±156.9 MB/s, size: 59.9 KB)\n"
     ]
    },
    {
     "name": "stderr",
     "output_type": "stream",
     "text": [
      "\u001b[34m\u001b[1mval: \u001b[0mScanning /user/gr1/delphi/dghezzi/KeyPoint_Detection/YOLO_dataset/45000_5000_160_180_800/labels/val... 5000 images, 0 backgrounds, 0 corrupt: 100%|██████████| 5000/5000 [00:03<00:00, 1307.55it/s]\n"
     ]
    },
    {
     "name": "stdout",
     "output_type": "stream",
     "text": [
      "\u001b[34m\u001b[1mval: \u001b[0mNew cache created: /user/gr1/delphi/dghezzi/KeyPoint_Detection/YOLO_dataset/45000_5000_160_180_800/labels/val.cache\n",
      "Plotting labels to /user/gr1/delphi/dghezzi/KeyPoint_Detection/Models/Model-45000_5000_160_180_800_2epochs/training_val3/labels.jpg... \n",
      "\u001b[34m\u001b[1moptimizer:\u001b[0m 'optimizer=auto' found, ignoring 'lr0=0.01' and 'momentum=0.937' and determining best 'optimizer', 'lr0' and 'momentum' automatically... \n",
      "\u001b[34m\u001b[1moptimizer:\u001b[0m SGD(lr=0.01, momentum=0.9) with parameter groups 87 weight(decay=0.0), 97 weight(decay=0.0005), 96 bias(decay=0.0)\n",
      "Image sizes 800 train, 800 val\n",
      "Using 8 dataloader workers\n",
      "Logging results to \u001b[1m/user/gr1/delphi/dghezzi/KeyPoint_Detection/Models/Model-45000_5000_160_180_800_2epochs/training_val3\u001b[0m\n",
      "Starting training for 1000 epochs...\n",
      "\n",
      "      Epoch    GPU_mem   box_loss  pose_loss  kobj_loss   cls_loss   dfl_loss  Instances       Size\n"
     ]
    },
    {
     "name": "stderr",
     "output_type": "stream",
     "text": [
      "     1/1000      20.8G      1.208    0.03411     0.1489      1.026       1.59       1379        800: 100%|██████████| 2813/2813 [09:06<00:00,  5.15it/s]\n",
      "                 Class     Images  Instances      Box(P          R      mAP50  mAP50-95)     Pose(P          R      mAP50  mAP50-95): 100%|██████████| 157/157 [01:56<00:00,  1.35it/s]\n"
     ]
    },
    {
     "name": "stdout",
     "output_type": "stream",
     "text": [
      "                   all       5000     587016      0.729      0.599      0.689      0.363      0.741       0.66      0.763      0.763\n",
      "\n",
      "      Epoch    GPU_mem   box_loss  pose_loss  kobj_loss   cls_loss   dfl_loss  Instances       Size\n"
     ]
    },
    {
     "name": "stderr",
     "output_type": "stream",
     "text": [
      "     2/1000      20.8G     0.8742    0.01909     0.0696     0.6958      1.296       1584        800: 100%|██████████| 2813/2813 [08:26<00:00,  5.55it/s]\n",
      "                 Class     Images  Instances      Box(P          R      mAP50  mAP50-95)     Pose(P          R      mAP50  mAP50-95): 100%|██████████| 157/157 [02:01<00:00,  1.29it/s]\n"
     ]
    },
    {
     "name": "stdout",
     "output_type": "stream",
     "text": [
      "                   all       5000     587016      0.801      0.654      0.773      0.579      0.797      0.674      0.804      0.804\n",
      "\n",
      "      Epoch    GPU_mem   box_loss  pose_loss  kobj_loss   cls_loss   dfl_loss  Instances       Size\n"
     ]
    },
    {
     "name": "stderr",
     "output_type": "stream",
     "text": [
      "     3/1000      22.5G      0.799    0.01677    0.06317     0.6466      1.249       1582        800: 100%|██████████| 2813/2813 [07:57<00:00,  5.89it/s]\n",
      "                 Class     Images  Instances      Box(P          R      mAP50  mAP50-95)     Pose(P          R      mAP50  mAP50-95): 100%|██████████| 157/157 [01:27<00:00,  1.79it/s]\n"
     ]
    },
    {
     "name": "stdout",
     "output_type": "stream",
     "text": [
      "                   all       5000     587016      0.222       0.16      0.109     0.0318      0.656      0.492      0.565      0.558\n",
      "\n",
      "      Epoch    GPU_mem   box_loss  pose_loss  kobj_loss   cls_loss   dfl_loss  Instances       Size\n"
     ]
    },
    {
     "name": "stderr",
     "output_type": "stream",
     "text": [
      "     4/1000      22.5G     0.7447    0.01525     0.0597     0.6113      1.217       1219        800: 100%|██████████| 2813/2813 [07:53<00:00,  5.94it/s]\n",
      "                 Class     Images  Instances      Box(P          R      mAP50  mAP50-95)     Pose(P          R      mAP50  mAP50-95): 100%|██████████| 157/157 [01:58<00:00,  1.32it/s]\n"
     ]
    },
    {
     "name": "stdout",
     "output_type": "stream",
     "text": [
      "                   all       5000     587016      0.681      0.582      0.664      0.457      0.725      0.658      0.758      0.758\n",
      "\n",
      "      Epoch    GPU_mem   box_loss  pose_loss  kobj_loss   cls_loss   dfl_loss  Instances       Size\n"
     ]
    },
    {
     "name": "stderr",
     "output_type": "stream",
     "text": [
      "     5/1000      22.5G     0.7063    0.01437    0.05687     0.5831       1.19       1356        800: 100%|██████████| 2813/2813 [07:54<00:00,  5.93it/s]\n",
      "                 Class     Images  Instances      Box(P          R      mAP50  mAP50-95)     Pose(P          R      mAP50  mAP50-95): 100%|██████████| 157/157 [01:36<00:00,  1.62it/s]\n"
     ]
    },
    {
     "name": "stdout",
     "output_type": "stream",
     "text": [
      "                   all       5000     587016      0.338      0.361      0.278      0.111      0.593      0.555      0.593      0.588\n",
      "\u001b[34m\u001b[1mEarlyStopping: \u001b[0mTraining stopped early as no improvement observed in last 3 epochs. Best results observed at epoch 2, best model saved as best.pt.\n",
      "To update EarlyStopping(patience=3) pass a new patience value, i.e. `patience=300` or use `patience=0` to disable EarlyStopping.\n",
      "\n",
      "5 epochs completed in 0.841 hours.\n",
      "Optimizer stripped from /user/gr1/delphi/dghezzi/KeyPoint_Detection/Models/Model-45000_5000_160_180_800_2epochs/training_val3/weights/last.pt, 19.8MB\n",
      "Optimizer stripped from /user/gr1/delphi/dghezzi/KeyPoint_Detection/Models/Model-45000_5000_160_180_800_2epochs/training_val3/weights/best.pt, 19.8MB\n",
      "\n",
      "Validating /user/gr1/delphi/dghezzi/KeyPoint_Detection/Models/Model-45000_5000_160_180_800_2epochs/training_val3/weights/best.pt...\n",
      "Ultralytics 8.3.168 🚀 Python-3.9.19 torch-2.0.0+cu117 CUDA:0 (NVIDIA RTX A6000, 48566MiB)\n",
      "YOLO11s-pose summary (fused): 109 layers, 9,699,372 parameters, 0 gradients, 22.3 GFLOPs\n"
     ]
    },
    {
     "name": "stderr",
     "output_type": "stream",
     "text": [
      "                 Class     Images  Instances      Box(P          R      mAP50  mAP50-95)     Pose(P          R      mAP50  mAP50-95): 100%|██████████| 157/157 [03:20<00:00,  1.28s/it]\n"
     ]
    },
    {
     "name": "stdout",
     "output_type": "stream",
     "text": [
      "                   all       5000     587016      0.801      0.653      0.773      0.579      0.798      0.674      0.804      0.804\n",
      "Speed: 0.1ms preprocess, 1.9ms inference, 0.0ms loss, 2.0ms postprocess per image\n",
      "Results saved to \u001b[1m/user/gr1/delphi/dghezzi/KeyPoint_Detection/Models/Model-45000_5000_160_180_800_2epochs/training_val3\u001b[0m\n"
     ]
    },
    {
     "ename": "FileNotFoundError",
     "evalue": "[Errno 2] No such file or directory: '/user/gr1/delphi/dghezzi/KeyPoint_Detection/Models/Model-45000_5000_160_180_800_2epochs/training_val/weights/best.pt'",
     "output_type": "error",
     "traceback": [
      "\u001b[0;31m---------------------------------------------------------------------------\u001b[0m",
      "\u001b[0;31mFileNotFoundError\u001b[0m                         Traceback (most recent call last)",
      "Cell \u001b[0;32mIn[10], line 12\u001b[0m\n\u001b[1;32m     10\u001b[0m best_model_path \u001b[38;5;241m=\u001b[39m os\u001b[38;5;241m.\u001b[39mpath\u001b[38;5;241m.\u001b[39mjoin(\u001b[38;5;124mf\u001b[39m\u001b[38;5;124m'\u001b[39m\u001b[38;5;132;01m{\u001b[39;00mmodel_directory\u001b[38;5;132;01m}\u001b[39;00m\u001b[38;5;124m/training_val/weights\u001b[39m\u001b[38;5;124m'\u001b[39m, \u001b[38;5;124m'\u001b[39m\u001b[38;5;124mbest.pt\u001b[39m\u001b[38;5;124m'\u001b[39m)\n\u001b[1;32m     11\u001b[0m \u001b[38;5;28;01mif\u001b[39;00m os\u001b[38;5;241m.\u001b[39mpath\u001b[38;5;241m.\u001b[39mexists(\u001b[38;5;124mf\u001b[39m\u001b[38;5;124m'\u001b[39m\u001b[38;5;132;01m{\u001b[39;00mmodel_directory\u001b[38;5;132;01m}\u001b[39;00m\u001b[38;5;124m/training_val/weights\u001b[39m\u001b[38;5;124m'\u001b[39m):\n\u001b[0;32m---> 12\u001b[0m     \u001b[43mshutil\u001b[49m\u001b[38;5;241;43m.\u001b[39;49m\u001b[43mcopy\u001b[49m\u001b[43m(\u001b[49m\u001b[43mbest_model_path\u001b[49m\u001b[43m,\u001b[49m\u001b[43m \u001b[49m\u001b[43mmodel_directory\u001b[49m\u001b[43m)\u001b[49m\n",
      "File \u001b[0;32m/usr/lib64/python3.9/shutil.py:427\u001b[0m, in \u001b[0;36mcopy\u001b[0;34m(src, dst, follow_symlinks)\u001b[0m\n\u001b[1;32m    425\u001b[0m \u001b[38;5;28;01mif\u001b[39;00m os\u001b[38;5;241m.\u001b[39mpath\u001b[38;5;241m.\u001b[39misdir(dst):\n\u001b[1;32m    426\u001b[0m     dst \u001b[38;5;241m=\u001b[39m os\u001b[38;5;241m.\u001b[39mpath\u001b[38;5;241m.\u001b[39mjoin(dst, os\u001b[38;5;241m.\u001b[39mpath\u001b[38;5;241m.\u001b[39mbasename(src))\n\u001b[0;32m--> 427\u001b[0m \u001b[43mcopyfile\u001b[49m\u001b[43m(\u001b[49m\u001b[43msrc\u001b[49m\u001b[43m,\u001b[49m\u001b[43m \u001b[49m\u001b[43mdst\u001b[49m\u001b[43m,\u001b[49m\u001b[43m \u001b[49m\u001b[43mfollow_symlinks\u001b[49m\u001b[38;5;241;43m=\u001b[39;49m\u001b[43mfollow_symlinks\u001b[49m\u001b[43m)\u001b[49m\n\u001b[1;32m    428\u001b[0m copymode(src, dst, follow_symlinks\u001b[38;5;241m=\u001b[39mfollow_symlinks)\n\u001b[1;32m    429\u001b[0m \u001b[38;5;28;01mreturn\u001b[39;00m dst\n",
      "File \u001b[0;32m/usr/lib64/python3.9/shutil.py:264\u001b[0m, in \u001b[0;36mcopyfile\u001b[0;34m(src, dst, follow_symlinks)\u001b[0m\n\u001b[1;32m    262\u001b[0m     os\u001b[38;5;241m.\u001b[39msymlink(os\u001b[38;5;241m.\u001b[39mreadlink(src), dst)\n\u001b[1;32m    263\u001b[0m \u001b[38;5;28;01melse\u001b[39;00m:\n\u001b[0;32m--> 264\u001b[0m     \u001b[38;5;28;01mwith\u001b[39;00m \u001b[38;5;28;43mopen\u001b[39;49m\u001b[43m(\u001b[49m\u001b[43msrc\u001b[49m\u001b[43m,\u001b[49m\u001b[43m \u001b[49m\u001b[38;5;124;43m'\u001b[39;49m\u001b[38;5;124;43mrb\u001b[39;49m\u001b[38;5;124;43m'\u001b[39;49m\u001b[43m)\u001b[49m \u001b[38;5;28;01mas\u001b[39;00m fsrc:\n\u001b[1;32m    265\u001b[0m         \u001b[38;5;28;01mtry\u001b[39;00m:\n\u001b[1;32m    266\u001b[0m             \u001b[38;5;28;01mwith\u001b[39;00m \u001b[38;5;28mopen\u001b[39m(dst, \u001b[38;5;124m'\u001b[39m\u001b[38;5;124mwb\u001b[39m\u001b[38;5;124m'\u001b[39m) \u001b[38;5;28;01mas\u001b[39;00m fdst:\n\u001b[1;32m    267\u001b[0m                 \u001b[38;5;66;03m# macOS\u001b[39;00m\n",
      "\u001b[0;31mFileNotFoundError\u001b[0m: [Errno 2] No such file or directory: '/user/gr1/delphi/dghezzi/KeyPoint_Detection/Models/Model-45000_5000_160_180_800_2epochs/training_val/weights/best.pt'"
     ]
    }
   ],
   "source": [
    "datapath='/user/gr1/delphi/dghezzi/KeyPoint_Detection/YOLO_dataset/45000_5000_160_180_800/45000_5000_160_180_800.yaml'\n",
    "model_directory = '/user/gr1/delphi/dghezzi/KeyPoint_Detection/Models/Model-45000_5000_160_180_800_2epochs'\n",
    "\n",
    "\n",
    "model = YOLO('yolo11s-pose.pt')\n",
    "result = model.train(data=datapath, epochs=1000, imgsz=800, patience=3, \n",
    "                     name='training_val', save_period=5, project=model_directory)   \n",
    "\n",
    "# Copy the best model to the model directory\n",
    "best_model_path = os.path.join(f'{model_directory}/training_val/weights', 'best.pt')\n",
    "if os.path.exists(f'{model_directory}/training_val/weights'):\n",
    "    shutil.copy(best_model_path, model_directory)         "
   ]
  },
  {
   "cell_type": "code",
   "execution_count": null,
   "metadata": {
    "trusted": true
   },
   "outputs": [
    {
     "name": "stdout",
     "output_type": "stream",
     "text": [
      "Ultralytics 8.3.168 🚀 Python-3.9.19 torch-2.0.0+cu117 CUDA:0 (NVIDIA RTX A6000, 48566MiB)\n"
     ]
    },
    {
     "name": "stdout",
     "output_type": "stream",
     "text": [
      "YOLO11s-pose summary (fused): 109 layers, 9,699,372 parameters, 0 gradients, 22.3 GFLOPs\n",
      "\u001b[34m\u001b[1mval: \u001b[0mFast image access ✅ (ping: 0.0±0.0 ms, read: 1992.2±212.8 MB/s, size: 58.1 KB)\n"
     ]
    },
    {
     "name": "stderr",
     "output_type": "stream",
     "text": [
      "\u001b[34m\u001b[1mval: \u001b[0mScanning /user/gr1/delphi/dghezzi/KeyPoint Detection/YOLO_dataset/100/labels/val.cache... 8 images, 0 backgrounds, 4 corrupt: 100%|██████████| 8/8 [00:00<?, ?it/s]"
     ]
    },
    {
     "name": "stdout",
     "output_type": "stream",
     "text": [
      "\u001b[34m\u001b[1mval: \u001b[0m/user/gr1/delphi/dghezzi/KeyPoint Detection/YOLO_dataset/100/images/val/event_11.jpg: ignoring corrupt image/label: non-normalized or out of bounds coordinates [     1.0763]\n",
      "\u001b[34m\u001b[1mval: \u001b[0m/user/gr1/delphi/dghezzi/KeyPoint Detection/YOLO_dataset/100/images/val/event_21.jpg: ignoring corrupt image/label: non-normalized or out of bounds coordinates [       1.02]\n",
      "\u001b[34m\u001b[1mval: \u001b[0m/user/gr1/delphi/dghezzi/KeyPoint Detection/YOLO_dataset/100/images/val/event_34.jpg: ignoring corrupt image/label: non-normalized or out of bounds coordinates [     1.0159]\n",
      "\u001b[34m\u001b[1mval: \u001b[0m/user/gr1/delphi/dghezzi/KeyPoint Detection/YOLO_dataset/100/images/val/event_37.jpg: ignoring corrupt image/label: non-normalized or out of bounds coordinates [      1.032]\n"
     ]
    },
    {
     "name": "stderr",
     "output_type": "stream",
     "text": [
      "\n",
      "                 Class     Images  Instances      Box(P          R      mAP50  mAP50-95)     Pose(P          R      mAP50  mAP50-95): 100%|██████████| 1/1 [00:00<00:00,  7.89it/s]\n"
     ]
    },
    {
     "name": "stdout",
     "output_type": "stream",
     "text": [
      "                   all          4        474       0.25    0.00211      0.126     0.0251          1    0.00844      0.504      0.504\n",
      "Speed: 0.2ms preprocess, 26.1ms inference, 0.0ms loss, 0.7ms postprocess per image\n",
      "Results saved to \u001b[1mruns/pose/val\u001b[0m\n"
     ]
    }
   ],
   "source": [
    "'''\n",
    "from ultralytics import YOLO\n",
    "import matplotlib.pyplot as plt\n",
    "\n",
    "# Carica il modello\n",
    "model = YOLO(f'{model_directory}/circle_keypoints/weights/best.pt')\n",
    "\n",
    "# Valutazione\n",
    "metrics = model.val()\n",
    "'''"
   ]
  },
  {
   "cell_type": "code",
   "execution_count": null,
   "metadata": {
    "trusted": true
   },
   "outputs": [
    {
     "data": {
      "text/plain": [
       "'\\nlines = []\\n\\n# Bounding Box Metrics\\nlines.append(\"Bounding Box Metrics\")\\nlines.append(f\" Precision (box):         {metrics.box.mp:.3f}\")     # media precision\\nlines.append(f\" Recall (box):            {metrics.box.mr:.3f}\")     # media recall\\nlines.append(f\" F1 Score (box):          {(2 * metrics.box.mp * metrics.box.mr / (metrics.box.mp + metrics.box.mr + 1e-16)):.3f}\")  # calcolo F1 manuale\\nlines.append(f\" mAP@0.5:0.95 (box):      {metrics.box.map:.3f}\")    # media AP su tutte soglie\\nlines.append(f\" mAP@0.5 (box):           {metrics.box.map50:.3f}\")   # AP a 0.5 IoU\\nlines.append(f\" mAP@0.75 (box):          {metrics.box.map75:.3f}\")   # AP a 0.75 IoU\\nlines.append(\"\")\\n\\n# Keypoint Metrics\\nlines.append(\"Keypoint Metrics\")\\nlines.append(f\" Precision (Keypoint):        {metrics.pose.mp:.3f}\")     # media precision pose\\nlines.append(f\" Recall (Keypoint):           {metrics.pose.mr:.3f}\")     # media recall pose\\nlines.append(f\" F1 Score (Keypoint):         {(2 * metrics.pose.mp * metrics.pose.mr / (metrics.pose.mp + metrics.pose.mr + 1e-16)):.3f}\")  # F1 pose manuale\\nlines.append(f\" mAP@0.5:0.95 (Keypoint):     {metrics.pose.map:.3f}\")    # mAP pose media tutte soglie\\nlines.append(f\" mAP@0.5 (Keypoint):          {metrics.pose.map50:.3f}\")   # mAP pose 0.5 IoU\\nlines.append(f\" mAP@0.75 (Keypoint):         {metrics.pose.map75:.3f}\")   # mAP pose 0.75 IoU\\n\\n\\n# Salvataggio su file .txt\\noutput_path = \"/kaggle/working/metrics_summary.txt\"\\nwith open(output_path, \"w\") as f:\\n    f.write(\"\\n\".join(lines))\\n\\nprint(f\"✅ Metriche salvate in: {output_path}\")\\n\\nwith open(output_path, \"r\") as f:\\n    print(\"\\n\" + f.read())\\n'"
      ]
     },
     "execution_count": 6,
     "metadata": {},
     "output_type": "execute_result"
    }
   ],
   "source": [
    "'''\n",
    "lines = []\n",
    "\n",
    "# Bounding Box Metrics\n",
    "lines.append(\"Bounding Box Metrics\")\n",
    "lines.append(f\" Precision (box):         {metrics.box.mp:.3f}\")     # media precision\n",
    "lines.append(f\" Recall (box):            {metrics.box.mr:.3f}\")     # media recall\n",
    "lines.append(f\" F1 Score (box):          {(2 * metrics.box.mp * metrics.box.mr / (metrics.box.mp + metrics.box.mr + 1e-16)):.3f}\")  # calcolo F1 manuale\n",
    "lines.append(f\" mAP@0.5:0.95 (box):      {metrics.box.map:.3f}\")    # media AP su tutte soglie\n",
    "lines.append(f\" mAP@0.5 (box):           {metrics.box.map50:.3f}\")   # AP a 0.5 IoU\n",
    "lines.append(f\" mAP@0.75 (box):          {metrics.box.map75:.3f}\")   # AP a 0.75 IoU\n",
    "lines.append(\"\")\n",
    "\n",
    "# Keypoint Metrics\n",
    "lines.append(\"Keypoint Metrics\")\n",
    "lines.append(f\" Precision (Keypoint):        {metrics.pose.mp:.3f}\")     # media precision pose\n",
    "lines.append(f\" Recall (Keypoint):           {metrics.pose.mr:.3f}\")     # media recall pose\n",
    "lines.append(f\" F1 Score (Keypoint):         {(2 * metrics.pose.mp * metrics.pose.mr / (metrics.pose.mp + metrics.pose.mr + 1e-16)):.3f}\")  # F1 pose manuale\n",
    "lines.append(f\" mAP@0.5:0.95 (Keypoint):     {metrics.pose.map:.3f}\")    # mAP pose media tutte soglie\n",
    "lines.append(f\" mAP@0.5 (Keypoint):          {metrics.pose.map50:.3f}\")   # mAP pose 0.5 IoU\n",
    "lines.append(f\" mAP@0.75 (Keypoint):         {metrics.pose.map75:.3f}\")   # mAP pose 0.75 IoU\n",
    "\n",
    "\n",
    "# Salvataggio su file .txt\n",
    "output_path = \"/kaggle/working/metrics_summary.txt\"\n",
    "with open(output_path, \"w\") as f:\n",
    "    f.write(\"\\n\".join(lines))\n",
    "\n",
    "print(f\"✅ Metriche salvate in: {output_path}\")\n",
    "\n",
    "with open(output_path, \"r\") as f:\n",
    "    print(\"\\n\" + f.read())\n",
    "'''"
   ]
  }
 ],
 "metadata": {
  "kaggle": {
   "accelerator": "nvidiaTeslaT4",
   "dataSources": [
    {
     "datasetId": 7725290,
     "sourceId": 12259583,
     "sourceType": "datasetVersion"
    },
    {
     "datasetId": 7781105,
     "sourceId": 12342890,
     "sourceType": "datasetVersion"
    },
    {
     "datasetId": 7899294,
     "sourceId": 12514772,
     "sourceType": "datasetVersion"
    }
   ],
   "dockerImageVersionId": 31041,
   "isGpuEnabled": true,
   "isInternetEnabled": true,
   "language": "python",
   "sourceType": "notebook"
  },
  "kernelspec": {
   "display_name": ".venv",
   "language": "python",
   "name": "python3"
  },
  "language_info": {
   "codemirror_mode": {
    "name": "ipython",
    "version": 3
   },
   "file_extension": ".py",
   "mimetype": "text/x-python",
   "name": "python",
   "nbconvert_exporter": "python",
   "pygments_lexer": "ipython3",
   "version": "3.9.19"
  }
 },
 "nbformat": 4,
 "nbformat_minor": 4
}
