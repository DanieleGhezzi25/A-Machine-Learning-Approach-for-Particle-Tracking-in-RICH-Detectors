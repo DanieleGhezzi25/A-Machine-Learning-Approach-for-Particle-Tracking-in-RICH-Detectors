{
 "cells": [
  {
   "cell_type": "code",
   "execution_count": 1,
   "id": "3faca04d",
   "metadata": {},
   "outputs": [],
   "source": [
    "import torch\n",
    "torch.cuda.empty_cache()"
   ]
  },
  {
   "cell_type": "code",
   "execution_count": null,
   "id": "077b0309",
   "metadata": {},
   "outputs": [
    {
     "name": "stdout",
     "output_type": "stream",
     "text": [
      "Training su dispositivo: cuda\n"
     ]
    },
    {
     "name": "stderr",
     "output_type": "stream",
     "text": [
      "Epoch 1/100 [Train]: 100%|██████████| 12/12 [00:09<00:00,  1.32it/s]\n",
      "Epoch 1/100 [Val]: 100%|██████████| 1/1 [00:02<00:00,  2.68s/it]\n"
     ]
    },
    {
     "name": "stdout",
     "output_type": "stream",
     "text": [
      "Epoch 1 | Train Loss: 3.274215 | Val Loss: 4.170201\n",
      "Val BCE Loss: 4.170201\n",
      "F1 (thresholds = 2px): 0.0000 | F1 (thresholds = 4px): 0.0000 | F1 (thresholds = 6px): 0.0000\n",
      "Weighted F1: 0.2 x 0.0000 + 0.5 x 0.0000 + 0.3 x 0.0000 = 0.0000\n",
      "[GPU] alloc: 488.0 MB | max: 18578.1 MB\n",
      " ==> Nuovo modello salvato (val loss e F1 migliorati)\n",
      "\n"
     ]
    },
    {
     "name": "stderr",
     "output_type": "stream",
     "text": [
      "Epoch 2/100 [Train]: 100%|██████████| 12/12 [00:08<00:00,  1.48it/s]\n",
      "Epoch 2/100 [Val]: 100%|██████████| 1/1 [00:02<00:00,  2.72s/it]\n"
     ]
    },
    {
     "name": "stdout",
     "output_type": "stream",
     "text": [
      "Epoch 2 | Train Loss: 2.673496 | Val Loss: 5.163861\n",
      "Val BCE Loss: 5.163861\n",
      "F1 (thresholds = 2px): 0.0000 | F1 (thresholds = 4px): 0.0000 | F1 (thresholds = 6px): 0.0000\n",
      "Weighted F1: 0.2 x 0.0000 + 0.5 x 0.0000 + 0.3 x 0.0000 = 0.0000\n",
      "[GPU] alloc: 490.2 MB | max: 18579.9 MB\n",
      " ==> Nuovo modello salvato (F1 migliorata)\n",
      "\n"
     ]
    },
    {
     "name": "stderr",
     "output_type": "stream",
     "text": [
      "Epoch 3/100 [Train]: 100%|██████████| 12/12 [00:08<00:00,  1.47it/s]\n",
      "Epoch 3/100 [Val]: 100%|██████████| 1/1 [00:02<00:00,  2.65s/it]\n"
     ]
    },
    {
     "name": "stdout",
     "output_type": "stream",
     "text": [
      "Epoch 3 | Train Loss: 2.482727 | Val Loss: 6.341795\n",
      "Val BCE Loss: 6.341795\n",
      "F1 (thresholds = 2px): 0.0000 | F1 (thresholds = 4px): 0.0000 | F1 (thresholds = 6px): 0.0000\n",
      "Weighted F1: 0.2 x 0.0000 + 0.5 x 0.0000 + 0.3 x 0.0000 = 0.0000\n",
      "[GPU] alloc: 487.2 MB | max: 18579.9 MB\n",
      " ==> Nuovo modello salvato (F1 migliorata)\n",
      "\n"
     ]
    },
    {
     "name": "stderr",
     "output_type": "stream",
     "text": [
      "Epoch 4/100 [Train]: 100%|██████████| 12/12 [00:08<00:00,  1.48it/s]\n",
      "Epoch 4/100 [Val]: 100%|██████████| 1/1 [00:02<00:00,  2.46s/it]\n"
     ]
    },
    {
     "name": "stdout",
     "output_type": "stream",
     "text": [
      "Epoch 4 | Train Loss: 2.386912 | Val Loss: 5.218429\n",
      "Val BCE Loss: 5.218429\n",
      "F1 (thresholds = 2px): 0.0015 | F1 (thresholds = 4px): 0.0074 | F1 (thresholds = 6px): 0.0196\n",
      "Weighted F1: 0.2 x 0.0015 + 0.5 x 0.0074 + 0.3 x 0.0196 = 0.0099\n",
      "[GPU] alloc: 487.8 MB | max: 18579.9 MB\n",
      " ==> Nuovo modello salvato (F1 migliorata)\n",
      "\n"
     ]
    },
    {
     "name": "stderr",
     "output_type": "stream",
     "text": [
      "Epoch 5/100 [Train]: 100%|██████████| 12/12 [00:08<00:00,  1.49it/s]\n",
      "Epoch 5/100 [Val]: 100%|██████████| 1/1 [00:01<00:00,  1.03s/it]\n"
     ]
    },
    {
     "name": "stdout",
     "output_type": "stream",
     "text": [
      "Epoch 5 | Train Loss: 2.310410 | Val Loss: 3.604966\n",
      "Val BCE Loss: 3.604966\n",
      "F1 (thresholds = 2px): 0.0000 | F1 (thresholds = 4px): 0.0185 | F1 (thresholds = 6px): 0.0185\n",
      "Weighted F1: 0.2 x 0.0000 + 0.5 x 0.0185 + 0.3 x 0.0185 = 0.0148\n",
      "[GPU] alloc: 487.8 MB | max: 18579.9 MB\n",
      " ==> Nuovo modello salvato (val loss e F1 migliorati)\n",
      "\n"
     ]
    },
    {
     "name": "stderr",
     "output_type": "stream",
     "text": [
      "Epoch 6/100 [Train]: 100%|██████████| 12/12 [00:08<00:00,  1.48it/s]\n",
      "Epoch 6/100 [Val]: 100%|██████████| 1/1 [00:00<00:00,  1.14it/s]\n"
     ]
    },
    {
     "name": "stdout",
     "output_type": "stream",
     "text": [
      "Epoch 6 | Train Loss: 2.248563 | Val Loss: 2.937732\n",
      "Val BCE Loss: 2.937732\n",
      "F1 (thresholds = 2px): 0.0000 | F1 (thresholds = 4px): 0.0417 | F1 (thresholds = 6px): 0.0417\n",
      "Weighted F1: 0.2 x 0.0000 + 0.5 x 0.0417 + 0.3 x 0.0417 = 0.0333\n",
      "[GPU] alloc: 487.8 MB | max: 18579.9 MB\n",
      " ==> Nuovo modello salvato (val loss e F1 migliorati)\n",
      "\n"
     ]
    },
    {
     "name": "stderr",
     "output_type": "stream",
     "text": [
      "Epoch 7/100 [Train]: 100%|██████████| 12/12 [00:08<00:00,  1.48it/s]\n",
      "Epoch 7/100 [Val]: 100%|██████████| 1/1 [00:02<00:00,  2.67s/it]\n"
     ]
    },
    {
     "name": "stdout",
     "output_type": "stream",
     "text": [
      "Epoch 7 | Train Loss: 2.227868 | Val Loss: 2.463300\n",
      "Val BCE Loss: 2.463300\n",
      "F1 (thresholds = 2px): 0.0000 | F1 (thresholds = 4px): 0.0083 | F1 (thresholds = 6px): 0.0176\n",
      "Weighted F1: 0.2 x 0.0000 + 0.5 x 0.0083 + 0.3 x 0.0176 = 0.0094\n",
      "[GPU] alloc: 487.8 MB | max: 18579.9 MB\n",
      " ==> Nuovo modello salvato (val loss migliorata)\n",
      "\n"
     ]
    },
    {
     "name": "stderr",
     "output_type": "stream",
     "text": [
      "Epoch 8/100 [Train]: 100%|██████████| 12/12 [00:08<00:00,  1.44it/s]\n",
      "Epoch 8/100 [Val]: 100%|██████████| 1/1 [00:00<00:00,  1.21it/s]\n"
     ]
    },
    {
     "name": "stdout",
     "output_type": "stream",
     "text": [
      "Epoch 8 | Train Loss: 2.202096 | Val Loss: 2.629611\n",
      "Val BCE Loss: 2.629611\n",
      "F1 (thresholds = 2px): 0.0000 | F1 (thresholds = 4px): 0.0000 | F1 (thresholds = 6px): 0.0139\n",
      "Weighted F1: 0.2 x 0.0000 + 0.5 x 0.0000 + 0.3 x 0.0139 = 0.0042\n",
      "[GPU] alloc: 487.8 MB | max: 18579.9 MB\n",
      " ==> Nessun miglioramento. patience: 1/7\n",
      "\n"
     ]
    },
    {
     "name": "stderr",
     "output_type": "stream",
     "text": [
      "Epoch 9/100 [Train]: 100%|██████████| 12/12 [00:08<00:00,  1.43it/s]\n",
      "Epoch 9/100 [Val]: 100%|██████████| 1/1 [00:00<00:00,  1.61it/s]\n"
     ]
    },
    {
     "name": "stdout",
     "output_type": "stream",
     "text": [
      "Epoch 9 | Train Loss: 2.173704 | Val Loss: 3.073631\n",
      "Val BCE Loss: 3.073631\n",
      "F1 (thresholds = 2px): 0.0000 | F1 (thresholds = 4px): 0.0000 | F1 (thresholds = 6px): 0.0000\n",
      "Weighted F1: 0.2 x 0.0000 + 0.5 x 0.0000 + 0.3 x 0.0000 = 0.0000\n",
      "[GPU] alloc: 487.8 MB | max: 18579.9 MB\n",
      " ==> Nessun miglioramento. patience: 2/7\n",
      "\n"
     ]
    },
    {
     "name": "stderr",
     "output_type": "stream",
     "text": [
      "Epoch 10/100 [Train]: 100%|██████████| 12/12 [00:08<00:00,  1.42it/s]\n",
      "Epoch 10/100 [Val]: 100%|██████████| 1/1 [00:00<00:00,  1.87it/s]\n"
     ]
    },
    {
     "name": "stdout",
     "output_type": "stream",
     "text": [
      "Epoch 10 | Train Loss: 2.148548 | Val Loss: 2.546211\n",
      "Val BCE Loss: 2.546211\n",
      "F1 (thresholds = 2px): 0.0000 | F1 (thresholds = 4px): 0.0000 | F1 (thresholds = 6px): 0.0000\n",
      "Weighted F1: 0.2 x 0.0000 + 0.5 x 0.0000 + 0.3 x 0.0000 = 0.0000\n",
      "[GPU] alloc: 487.8 MB | max: 18579.9 MB\n",
      " ==> Nessun miglioramento. patience: 3/7\n",
      "\n"
     ]
    },
    {
     "name": "stderr",
     "output_type": "stream",
     "text": [
      "Epoch 11/100 [Train]: 100%|██████████| 12/12 [00:08<00:00,  1.42it/s]\n",
      "Epoch 11/100 [Val]: 100%|██████████| 1/1 [00:00<00:00,  1.40it/s]\n"
     ]
    },
    {
     "name": "stdout",
     "output_type": "stream",
     "text": [
      "Epoch 11 | Train Loss: 2.115619 | Val Loss: 2.280678\n",
      "Val BCE Loss: 2.280678\n",
      "F1 (thresholds = 2px): 0.0000 | F1 (thresholds = 4px): 0.0000 | F1 (thresholds = 6px): 0.0109\n",
      "Weighted F1: 0.2 x 0.0000 + 0.5 x 0.0000 + 0.3 x 0.0109 = 0.0033\n",
      "[GPU] alloc: 487.8 MB | max: 18579.9 MB\n",
      " ==> Nuovo modello salvato (val loss migliorata)\n",
      "\n"
     ]
    },
    {
     "name": "stderr",
     "output_type": "stream",
     "text": [
      "Epoch 12/100 [Train]: 100%|██████████| 12/12 [00:08<00:00,  1.41it/s]\n",
      "Epoch 12/100 [Val]: 100%|██████████| 1/1 [00:01<00:00,  1.13s/it]\n"
     ]
    },
    {
     "name": "stdout",
     "output_type": "stream",
     "text": [
      "Epoch 12 | Train Loss: 2.087078 | Val Loss: 4.006985\n",
      "Val BCE Loss: 4.006985\n",
      "F1 (thresholds = 2px): 0.0000 | F1 (thresholds = 4px): 0.0000 | F1 (thresholds = 6px): 0.0000\n",
      "Weighted F1: 0.2 x 0.0000 + 0.5 x 0.0000 + 0.3 x 0.0000 = 0.0000\n",
      "[GPU] alloc: 487.8 MB | max: 18579.9 MB\n",
      " ==> Nessun miglioramento. patience: 1/7\n",
      "\n"
     ]
    },
    {
     "name": "stderr",
     "output_type": "stream",
     "text": [
      "Epoch 13/100 [Train]: 100%|██████████| 12/12 [00:08<00:00,  1.42it/s]\n",
      "Epoch 13/100 [Val]: 100%|██████████| 1/1 [00:00<00:00,  1.16it/s]\n"
     ]
    },
    {
     "name": "stdout",
     "output_type": "stream",
     "text": [
      "Epoch 13 | Train Loss: 2.135706 | Val Loss: 2.433949\n",
      "Val BCE Loss: 2.433949\n",
      "F1 (thresholds = 2px): 0.0000 | F1 (thresholds = 4px): 0.0000 | F1 (thresholds = 6px): 0.0000\n",
      "Weighted F1: 0.2 x 0.0000 + 0.5 x 0.0000 + 0.3 x 0.0000 = 0.0000\n",
      "[GPU] alloc: 487.8 MB | max: 18579.9 MB\n",
      " ==> Nessun miglioramento. patience: 2/7\n",
      "\n"
     ]
    },
    {
     "name": "stderr",
     "output_type": "stream",
     "text": [
      "Epoch 14/100 [Train]: 100%|██████████| 12/12 [00:08<00:00,  1.44it/s]\n",
      "Epoch 14/100 [Val]: 100%|██████████| 1/1 [00:02<00:00,  2.12s/it]\n"
     ]
    },
    {
     "name": "stdout",
     "output_type": "stream",
     "text": [
      "Epoch 14 | Train Loss: 2.082337 | Val Loss: 2.312945\n",
      "Val BCE Loss: 2.312945\n",
      "F1 (thresholds = 2px): 0.0000 | F1 (thresholds = 4px): 0.0000 | F1 (thresholds = 6px): 0.0089\n",
      "Weighted F1: 0.2 x 0.0000 + 0.5 x 0.0000 + 0.3 x 0.0089 = 0.0027\n",
      "[GPU] alloc: 487.8 MB | max: 18579.9 MB\n",
      " ==> Nessun miglioramento. patience: 3/7\n",
      "\n"
     ]
    },
    {
     "name": "stderr",
     "output_type": "stream",
     "text": [
      "Epoch 15/100 [Train]: 100%|██████████| 12/12 [00:08<00:00,  1.43it/s]\n",
      "Epoch 15/100 [Val]: 100%|██████████| 1/1 [00:00<00:00,  1.97it/s]\n"
     ]
    },
    {
     "name": "stdout",
     "output_type": "stream",
     "text": [
      "Epoch 15 | Train Loss: 2.050266 | Val Loss: 3.117393\n",
      "Val BCE Loss: 3.117393\n",
      "F1 (thresholds = 2px): 0.0000 | F1 (thresholds = 4px): 0.0000 | F1 (thresholds = 6px): 0.0000\n",
      "Weighted F1: 0.2 x 0.0000 + 0.5 x 0.0000 + 0.3 x 0.0000 = 0.0000\n",
      "[GPU] alloc: 487.8 MB | max: 18579.9 MB\n",
      " ==> Nessun miglioramento. patience: 4/7\n",
      "\n"
     ]
    },
    {
     "name": "stderr",
     "output_type": "stream",
     "text": [
      "Epoch 16/100 [Train]: 100%|██████████| 12/12 [00:08<00:00,  1.43it/s]\n",
      "Epoch 16/100 [Val]: 100%|██████████| 1/1 [00:00<00:00,  1.93it/s]\n"
     ]
    },
    {
     "name": "stdout",
     "output_type": "stream",
     "text": [
      "Epoch 16 | Train Loss: 2.007730 | Val Loss: 2.246103\n",
      "Val BCE Loss: 2.246103\n",
      "F1 (thresholds = 2px): 0.0000 | F1 (thresholds = 4px): 0.0000 | F1 (thresholds = 6px): 0.0278\n",
      "Weighted F1: 0.2 x 0.0000 + 0.5 x 0.0000 + 0.3 x 0.0278 = 0.0083\n",
      "[GPU] alloc: 487.8 MB | max: 18579.9 MB\n",
      " ==> Nuovo modello salvato (val loss migliorata)\n",
      "\n"
     ]
    },
    {
     "name": "stderr",
     "output_type": "stream",
     "text": [
      "Epoch 17/100 [Train]: 100%|██████████| 12/12 [00:08<00:00,  1.42it/s]\n",
      "Epoch 17/100 [Val]: 100%|██████████| 1/1 [00:00<00:00,  1.93it/s]\n"
     ]
    },
    {
     "name": "stdout",
     "output_type": "stream",
     "text": [
      "Epoch 17 | Train Loss: 1.980694 | Val Loss: 3.015970\n",
      "Val BCE Loss: 3.015970\n",
      "F1 (thresholds = 2px): 0.0000 | F1 (thresholds = 4px): 0.0000 | F1 (thresholds = 6px): 0.0000\n",
      "Weighted F1: 0.2 x 0.0000 + 0.5 x 0.0000 + 0.3 x 0.0000 = 0.0000\n",
      "[GPU] alloc: 487.8 MB | max: 18579.9 MB\n",
      " ==> Nessun miglioramento. patience: 1/7\n",
      "\n"
     ]
    },
    {
     "name": "stderr",
     "output_type": "stream",
     "text": [
      "Epoch 18/100 [Train]: 100%|██████████| 12/12 [00:08<00:00,  1.41it/s]\n",
      "Epoch 18/100 [Val]: 100%|██████████| 1/1 [00:00<00:00,  1.72it/s]\n"
     ]
    },
    {
     "name": "stdout",
     "output_type": "stream",
     "text": [
      "Epoch 18 | Train Loss: 1.955018 | Val Loss: 2.504096\n",
      "Val BCE Loss: 2.504096\n",
      "F1 (thresholds = 2px): 0.0000 | F1 (thresholds = 4px): 0.0000 | F1 (thresholds = 6px): 0.0000\n",
      "Weighted F1: 0.2 x 0.0000 + 0.5 x 0.0000 + 0.3 x 0.0000 = 0.0000\n",
      "[GPU] alloc: 487.8 MB | max: 18579.9 MB\n",
      " ==> Nessun miglioramento. patience: 2/7\n",
      "\n"
     ]
    },
    {
     "name": "stderr",
     "output_type": "stream",
     "text": [
      "Epoch 19/100 [Train]: 100%|██████████| 12/12 [00:08<00:00,  1.42it/s]\n",
      "Epoch 19/100 [Val]: 100%|██████████| 1/1 [00:00<00:00,  1.96it/s]\n"
     ]
    },
    {
     "name": "stdout",
     "output_type": "stream",
     "text": [
      "Epoch 19 | Train Loss: 1.928911 | Val Loss: 2.751969\n",
      "Val BCE Loss: 2.751969\n",
      "F1 (thresholds = 2px): 0.0000 | F1 (thresholds = 4px): 0.0000 | F1 (thresholds = 6px): 0.0000\n",
      "Weighted F1: 0.2 x 0.0000 + 0.5 x 0.0000 + 0.3 x 0.0000 = 0.0000\n",
      "[GPU] alloc: 487.8 MB | max: 18579.9 MB\n",
      " ==> Nessun miglioramento. patience: 3/7\n",
      "\n"
     ]
    },
    {
     "name": "stderr",
     "output_type": "stream",
     "text": [
      "Epoch 20/100 [Train]: 100%|██████████| 12/12 [00:08<00:00,  1.41it/s]\n",
      "Epoch 20/100 [Val]: 100%|██████████| 1/1 [00:00<00:00,  1.44it/s]\n"
     ]
    },
    {
     "name": "stdout",
     "output_type": "stream",
     "text": [
      "Epoch 20 | Train Loss: 1.902522 | Val Loss: 2.885664\n",
      "Val BCE Loss: 2.885664\n",
      "F1 (thresholds = 2px): 0.0000 | F1 (thresholds = 4px): 0.0268 | F1 (thresholds = 6px): 0.0613\n",
      "Weighted F1: 0.2 x 0.0000 + 0.5 x 0.0268 + 0.3 x 0.0613 = 0.0318\n",
      "[GPU] alloc: 487.8 MB | max: 18579.9 MB\n",
      " ==> Nessun miglioramento. patience: 4/7\n",
      "\n"
     ]
    },
    {
     "name": "stderr",
     "output_type": "stream",
     "text": [
      "Epoch 21/100 [Train]: 100%|██████████| 12/12 [00:08<00:00,  1.41it/s]\n",
      "Epoch 21/100 [Val]: 100%|██████████| 1/1 [00:00<00:00,  1.76it/s]\n"
     ]
    },
    {
     "name": "stdout",
     "output_type": "stream",
     "text": [
      "Epoch 21 | Train Loss: 1.843261 | Val Loss: 2.610344\n",
      "Val BCE Loss: 2.610344\n",
      "F1 (thresholds = 2px): 0.0000 | F1 (thresholds = 4px): 0.0000 | F1 (thresholds = 6px): 0.0147\n",
      "Weighted F1: 0.2 x 0.0000 + 0.5 x 0.0000 + 0.3 x 0.0147 = 0.0044\n",
      "[GPU] alloc: 487.8 MB | max: 18579.9 MB\n",
      " ==> Nessun miglioramento. patience: 5/7\n",
      "\n"
     ]
    },
    {
     "name": "stderr",
     "output_type": "stream",
     "text": [
      "Epoch 22/100 [Train]: 100%|██████████| 12/12 [00:08<00:00,  1.41it/s]\n",
      "Epoch 22/100 [Val]: 100%|██████████| 1/1 [00:01<00:00,  1.35s/it]\n"
     ]
    },
    {
     "name": "stdout",
     "output_type": "stream",
     "text": [
      "Epoch 22 | Train Loss: 1.806438 | Val Loss: 2.497159\n",
      "Val BCE Loss: 2.497159\n",
      "F1 (thresholds = 2px): 0.0000 | F1 (thresholds = 4px): 0.0038 | F1 (thresholds = 6px): 0.0170\n",
      "Weighted F1: 0.2 x 0.0000 + 0.5 x 0.0038 + 0.3 x 0.0170 = 0.0070\n",
      "[GPU] alloc: 487.8 MB | max: 18579.9 MB\n",
      " ==> Nessun miglioramento. patience: 6/7\n",
      "\n"
     ]
    },
    {
     "name": "stderr",
     "output_type": "stream",
     "text": [
      "Epoch 23/100 [Train]: 100%|██████████| 12/12 [00:08<00:00,  1.42it/s]\n",
      "Epoch 23/100 [Val]: 100%|██████████| 1/1 [00:00<00:00,  1.37it/s]"
     ]
    },
    {
     "name": "stdout",
     "output_type": "stream",
     "text": [
      "Epoch 23 | Train Loss: 1.753879 | Val Loss: 2.539614\n",
      "Val BCE Loss: 2.539614\n",
      "F1 (thresholds = 2px): 0.0089 | F1 (thresholds = 4px): 0.0179 | F1 (thresholds = 6px): 0.0317\n",
      "Weighted F1: 0.2 x 0.0089 + 0.5 x 0.0179 + 0.3 x 0.0317 = 0.0202\n",
      "[GPU] alloc: 487.8 MB | max: 18579.9 MB\n",
      " ==> Nessun miglioramento. patience: 7/7\n",
      "Early stopping attivato.\n",
      "Training completato e cache GPU svuotata.\n"
     ]
    },
    {
     "name": "stderr",
     "output_type": "stream",
     "text": [
      "\n"
     ]
    }
   ],
   "source": [
    "from torch.utils.data import DataLoader\n",
    "from UNet import UNet, get_dataloaders, train_unet, UNetWithAttention\n",
    "\n",
    "device = 'cuda' if torch.cuda.is_available() else 'cpu'\n",
    "print(f\"Training su dispositivo: {device}\")\n",
    "\n",
    "# Istanzia modello\n",
    "model = UNetWithAttention(in_channels=1, out_channels=1)  # o 3 se RGB\n",
    "\n",
    "# Carica i dataloader (adatta il path)\n",
    "datapath = '/user/gr1/delphi/dghezzi/UNet/UNet_dataset/4000_1000_160_180_npy'\n",
    "train_loader, val_loader = get_dataloaders(data_dir=datapath, batch_size=8, image_size=(800,800))\n",
    "\n",
    "# Avvia il training\n",
    "train_unet(model, train_loader, val_loader, num_epochs=100, lr=1e-3, device=device, patience=7)\n",
    "\n",
    "torch.cuda.empty_cache()\n",
    "print(\"Training completato e cache GPU svuotata.\")\n"
   ]
  }
 ],
 "metadata": {
  "kernelspec": {
   "display_name": ".venv",
   "language": "python",
   "name": "python3"
  },
  "language_info": {
   "codemirror_mode": {
    "name": "ipython",
    "version": 3
   },
   "file_extension": ".py",
   "mimetype": "text/x-python",
   "name": "python",
   "nbconvert_exporter": "python",
   "pygments_lexer": "ipython3",
   "version": "3.9.19"
  }
 },
 "nbformat": 4,
 "nbformat_minor": 5
}
