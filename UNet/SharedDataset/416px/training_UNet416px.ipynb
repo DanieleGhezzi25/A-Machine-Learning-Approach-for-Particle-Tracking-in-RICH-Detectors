{
 "cells": [
  {
   "cell_type": "code",
   "execution_count": null,
   "id": "917fbcf2",
   "metadata": {},
   "outputs": [],
   "source": [
    "import torch\n",
    "from UNet import get_dataloaders, train_unet, UNetWithAttention, pos_weight_calculator\n",
    "\n",
    "torch.cuda.empty_cache()\n",
    "device = 'cuda' if torch.cuda.is_available() else 'cpu'\n",
    "print(f\"Training su dispositivo: {device}\")"
   ]
  },
  {
   "cell_type": "code",
   "execution_count": null,
   "id": "c3965ea8",
   "metadata": {},
   "outputs": [],
   "source": [
    "model = UNetWithAttention(in_channels=1, out_channels=1)\n",
    "\n",
    "datapath = '/user/gr1/delphi/dghezzi/SharedDataset_22500_2500_150_175_npy/UNet/420px'\n",
    "pos_weight_= pos_weight_calculator(datapath)\n",
    "\n",
    "train_loader, val_loader = get_dataloaders(data_dir=datapath, batch_size=8, image_size=(420,420), pos_weight=pos_weight_)\n",
    "\n",
    "train_unet(model, train_loader, val_loader, num_epochs=100, lr=1e-3, device=device, patience=10, f1_earlystopping=False)\n",
    "\n",
    "torch.cuda.empty_cache()\n",
    "print(\"Training completato e cache GPU svuotata.\")"
   ]
  }
 ],
 "metadata": {
  "kernelspec": {
   "display_name": ".venv",
   "language": "python",
   "name": "python3"
  },
  "language_info": {
   "name": "python",
   "version": "3.9.19"
  }
 },
 "nbformat": 4,
 "nbformat_minor": 5
}
