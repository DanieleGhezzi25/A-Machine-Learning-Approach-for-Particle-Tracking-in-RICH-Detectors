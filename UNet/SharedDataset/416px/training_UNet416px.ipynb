{
 "cells": [
  {
   "cell_type": "code",
   "execution_count": 1,
   "id": "917fbcf2",
   "metadata": {},
   "outputs": [
    {
     "name": "stdout",
     "output_type": "stream",
     "text": [
      "Training su dispositivo: cuda\n"
     ]
    }
   ],
   "source": [
    "import torch\n",
    "import sys\n",
    "\n",
    "sys.path.append(r'/user/gr1/delphi/dghezzi/UNet')\n",
    "\n",
    "from UNet import get_dataloaders, train_unet, UNetWithAttention, pos_weight_calculator\n",
    "\n",
    "# torch.cuda.empty_cache()\n",
    "device = 'cuda' if torch.cuda.is_available() else 'cpu'\n",
    "print(f\"Training su dispositivo: {device}\")"
   ]
  },
  {
   "cell_type": "code",
   "execution_count": null,
   "id": "c3965ea8",
   "metadata": {},
   "outputs": [
    {
     "name": "stdout",
     "output_type": "stream",
     "text": [
      "Pos weight medio (calcolato dal validation set): 95.0579 ± 0.2966 (n=2500)\n"
     ]
    },
    {
     "name": "stderr",
     "output_type": "stream",
     "text": [
      "Epoch 1/100 [Train]: 100%|██████████| 2813/2813 [13:18<00:00,  3.52it/s]\n",
      "Epoch 1/100 [Val]: 100%|██████████| 313/313 [00:32<00:00,  9.73it/s]\n"
     ]
    },
    {
     "name": "stdout",
     "output_type": "stream",
     "text": [
      "Epoch 1 | Train Loss: 3.737813 | Val Loss: 3.519965\n",
      "[GPU] alloc: 488.9 MB | max: 5349.4 MB\n",
      " ==> Nuovo modello salvato (val loss migliorata)\n",
      "\n"
     ]
    },
    {
     "name": "stderr",
     "output_type": "stream",
     "text": [
      "Epoch 2/100 [Train]: 100%|██████████| 2813/2813 [10:50<00:00,  4.32it/s]\n",
      "Epoch 2/100 [Val]: 100%|██████████| 313/313 [00:25<00:00, 12.44it/s]\n"
     ]
    },
    {
     "name": "stdout",
     "output_type": "stream",
     "text": [
      "Epoch 2 | Train Loss: 3.371910 | Val Loss: 3.364915\n",
      "[GPU] alloc: 489.4 MB | max: 5349.4 MB\n",
      " ==> Nuovo modello salvato (val loss migliorata)\n",
      "\n"
     ]
    },
    {
     "name": "stderr",
     "output_type": "stream",
     "text": [
      "Epoch 3/100 [Train]: 100%|██████████| 2813/2813 [10:27<00:00,  4.48it/s]\n",
      "Epoch 3/100 [Val]: 100%|██████████| 313/313 [00:23<00:00, 13.38it/s]\n"
     ]
    },
    {
     "name": "stdout",
     "output_type": "stream",
     "text": [
      "Epoch 3 | Train Loss: 3.299348 | Val Loss: 3.313905\n",
      "[GPU] alloc: 488.0 MB | max: 5349.4 MB\n",
      " ==> Nuovo modello salvato (val loss migliorata)\n",
      "\n"
     ]
    },
    {
     "name": "stderr",
     "output_type": "stream",
     "text": [
      "Epoch 4/100 [Train]: 100%|██████████| 2813/2813 [10:24<00:00,  4.50it/s]\n",
      "Epoch 4/100 [Val]: 100%|██████████| 313/313 [00:24<00:00, 12.66it/s]\n"
     ]
    },
    {
     "name": "stdout",
     "output_type": "stream",
     "text": [
      "Epoch 4 | Train Loss: 3.245933 | Val Loss: 3.289783\n",
      "[GPU] alloc: 489.2 MB | max: 5349.4 MB\n",
      " ==> Nuovo modello salvato (val loss migliorata)\n",
      "\n"
     ]
    },
    {
     "name": "stderr",
     "output_type": "stream",
     "text": [
      "Epoch 5/100 [Train]: 100%|██████████| 2813/2813 [10:27<00:00,  4.48it/s]\n",
      "Epoch 5/100 [Val]: 100%|██████████| 313/313 [00:23<00:00, 13.18it/s]\n"
     ]
    },
    {
     "name": "stdout",
     "output_type": "stream",
     "text": [
      "Epoch 5 | Train Loss: 3.193364 | Val Loss: 3.288882\n",
      "[GPU] alloc: 490.2 MB | max: 5349.4 MB\n",
      " ==> Nuovo modello salvato (val loss migliorata)\n",
      "\n"
     ]
    },
    {
     "name": "stderr",
     "output_type": "stream",
     "text": [
      "Epoch 6/100 [Train]: 100%|██████████| 2813/2813 [10:27<00:00,  4.49it/s]\n",
      "Epoch 6/100 [Val]: 100%|██████████| 313/313 [00:24<00:00, 12.85it/s]\n"
     ]
    },
    {
     "name": "stdout",
     "output_type": "stream",
     "text": [
      "Epoch 6 | Train Loss: 3.129960 | Val Loss: 3.311374\n",
      "[GPU] alloc: 489.0 MB | max: 5349.4 MB\n",
      " ==> Nessun miglioramento. patience: 1/10\n",
      "\n"
     ]
    },
    {
     "name": "stderr",
     "output_type": "stream",
     "text": [
      "Epoch 7/100 [Train]: 100%|██████████| 2813/2813 [10:26<00:00,  4.49it/s]\n",
      "Epoch 7/100 [Val]: 100%|██████████| 313/313 [00:23<00:00, 13.07it/s]\n"
     ]
    },
    {
     "name": "stdout",
     "output_type": "stream",
     "text": [
      "Epoch 7 | Train Loss: 3.046661 | Val Loss: 3.391860\n",
      "[GPU] alloc: 488.2 MB | max: 5349.4 MB\n",
      " ==> Nessun miglioramento. patience: 2/10\n",
      "\n"
     ]
    },
    {
     "name": "stderr",
     "output_type": "stream",
     "text": [
      "Epoch 8/100 [Train]: 100%|██████████| 2813/2813 [10:27<00:00,  4.48it/s]\n",
      "Epoch 8/100 [Val]: 100%|██████████| 313/313 [00:23<00:00, 13.39it/s]\n"
     ]
    },
    {
     "name": "stdout",
     "output_type": "stream",
     "text": [
      "Epoch 8 | Train Loss: 2.939183 | Val Loss: 3.435846\n",
      "[GPU] alloc: 490.8 MB | max: 5349.4 MB\n",
      " ==> Nessun miglioramento. patience: 3/10\n",
      "\n"
     ]
    },
    {
     "name": "stderr",
     "output_type": "stream",
     "text": [
      "Epoch 9/100 [Train]: 100%|██████████| 2813/2813 [10:26<00:00,  4.49it/s]\n",
      "Epoch 9/100 [Val]: 100%|██████████| 313/313 [00:24<00:00, 12.98it/s]\n"
     ]
    },
    {
     "name": "stdout",
     "output_type": "stream",
     "text": [
      "Epoch 9 | Train Loss: 2.817922 | Val Loss: 3.546485\n",
      "[GPU] alloc: 488.6 MB | max: 5349.4 MB\n",
      " ==> Nessun miglioramento. patience: 4/10\n",
      "\n"
     ]
    },
    {
     "name": "stderr",
     "output_type": "stream",
     "text": [
      "Epoch 10/100 [Train]: 100%|██████████| 2813/2813 [10:26<00:00,  4.49it/s]\n",
      "Epoch 10/100 [Val]: 100%|██████████| 313/313 [00:24<00:00, 13.04it/s]\n"
     ]
    },
    {
     "name": "stdout",
     "output_type": "stream",
     "text": [
      "Epoch 10 | Train Loss: 2.703965 | Val Loss: 3.951887\n",
      "[GPU] alloc: 489.2 MB | max: 5349.4 MB\n",
      " ==> Nessun miglioramento. patience: 5/10\n",
      "\n"
     ]
    },
    {
     "name": "stderr",
     "output_type": "stream",
     "text": [
      "Epoch 11/100 [Train]: 100%|██████████| 2813/2813 [10:22<00:00,  4.52it/s]\n",
      "Epoch 11/100 [Val]: 100%|██████████| 313/313 [00:24<00:00, 12.81it/s]\n"
     ]
    },
    {
     "name": "stdout",
     "output_type": "stream",
     "text": [
      "Epoch 11 | Train Loss: 2.613519 | Val Loss: 4.163693\n",
      "[GPU] alloc: 489.4 MB | max: 5349.4 MB\n",
      " ==> Nessun miglioramento. patience: 6/10\n",
      "\n"
     ]
    },
    {
     "name": "stderr",
     "output_type": "stream",
     "text": [
      "Epoch 12/100 [Train]: 100%|██████████| 2813/2813 [10:26<00:00,  4.49it/s]\n",
      "Epoch 12/100 [Val]: 100%|██████████| 313/313 [00:24<00:00, 13.01it/s]\n"
     ]
    },
    {
     "name": "stdout",
     "output_type": "stream",
     "text": [
      "Epoch 12 | Train Loss: 2.539176 | Val Loss: 4.233124\n",
      "[GPU] alloc: 488.5 MB | max: 5349.4 MB\n",
      " ==> Nessun miglioramento. patience: 7/10\n",
      "\n"
     ]
    },
    {
     "name": "stderr",
     "output_type": "stream",
     "text": [
      "Epoch 13/100 [Train]: 100%|██████████| 2813/2813 [10:25<00:00,  4.50it/s]\n",
      "Epoch 13/100 [Val]: 100%|██████████| 313/313 [00:23<00:00, 13.20it/s]\n"
     ]
    },
    {
     "name": "stdout",
     "output_type": "stream",
     "text": [
      "Epoch 13 | Train Loss: 2.479674 | Val Loss: 4.613971\n",
      "[GPU] alloc: 488.3 MB | max: 5349.4 MB\n",
      " ==> Nessun miglioramento. patience: 8/10\n",
      "\n"
     ]
    },
    {
     "name": "stderr",
     "output_type": "stream",
     "text": [
      "Epoch 14/100 [Train]: 100%|██████████| 2813/2813 [10:27<00:00,  4.48it/s]\n",
      "Epoch 14/100 [Val]: 100%|██████████| 313/313 [00:23<00:00, 13.08it/s]\n"
     ]
    },
    {
     "name": "stdout",
     "output_type": "stream",
     "text": [
      "Epoch 14 | Train Loss: 2.427530 | Val Loss: 4.657081\n",
      "[GPU] alloc: 489.5 MB | max: 5349.4 MB\n",
      " ==> Nessun miglioramento. patience: 9/10\n",
      "\n"
     ]
    },
    {
     "name": "stderr",
     "output_type": "stream",
     "text": [
      "Epoch 15/100 [Train]: 100%|██████████| 2813/2813 [10:26<00:00,  4.49it/s]\n",
      "Epoch 15/100 [Val]: 100%|██████████| 313/313 [00:24<00:00, 12.86it/s]\n"
     ]
    },
    {
     "name": "stdout",
     "output_type": "stream",
     "text": [
      "Epoch 15 | Train Loss: 2.382942 | Val Loss: 4.915141\n",
      "[GPU] alloc: 488.5 MB | max: 5349.4 MB\n",
      " ==> Nessun miglioramento. patience: 10/10\n",
      "Early stopping attivato.\n",
      "Training completato e cache GPU svuotata.\n"
     ]
    }
   ],
   "source": [
    "model = UNetWithAttention(in_channels=1, out_channels=1)\n",
    "\n",
    "datapath = '/user/gr1/delphi/dghezzi/SharedDataset_22500_2500_150_175_npy/UNet/416px'\n",
    "pos_weight_= pos_weight_calculator(datapath)\n",
    "\n",
    "train_loader, val_loader = get_dataloaders(data_dir=datapath, batch_size=8, image_size=(416,416))\n",
    "\n",
    "train_unet(model, train_loader, val_loader, num_epochs=100, lr=1e-3, device=device, patience=7, f1_earlystopping=False, pos_weight=pos_weight_, img_size=416)\n",
    "\n",
    "# torch.cuda.empty_cache()\n",
    "print(\"Training completato e cache GPU svuotata.\")"
   ]
  }
 ],
 "metadata": {
  "kernelspec": {
   "display_name": ".venv",
   "language": "python",
   "name": "python3"
  },
  "language_info": {
   "codemirror_mode": {
    "name": "ipython",
    "version": 3
   },
   "file_extension": ".py",
   "mimetype": "text/x-python",
   "name": "python",
   "nbconvert_exporter": "python",
   "pygments_lexer": "ipython3",
   "version": "3.9.19"
  }
 },
 "nbformat": 4,
 "nbformat_minor": 5
}
