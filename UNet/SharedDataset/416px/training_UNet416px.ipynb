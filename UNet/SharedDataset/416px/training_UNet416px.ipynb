{
 "cells": [
  {
   "cell_type": "code",
   "execution_count": 1,
   "id": "917fbcf2",
   "metadata": {},
   "outputs": [
    {
     "name": "stdout",
     "output_type": "stream",
     "text": [
      "Training su dispositivo: cuda\n"
     ]
    }
   ],
   "source": [
    "import torch\n",
    "import sys\n",
    "\n",
    "sys.path.append(r'/user/gr1/delphi/dghezzi/UNet')\n",
    "\n",
    "from UNet import get_dataloaders, train_unet, UNetWithAttention, pos_weight_calculator\n",
    "\n",
    "# torch.cuda.empty_cache()\n",
    "device = 'cuda' if torch.cuda.is_available() else 'cpu'\n",
    "print(f\"Training su dispositivo: {device}\")\n",
    "torch.cuda.empty_cache()"
   ]
  },
  {
   "cell_type": "code",
   "execution_count": 2,
   "id": "c3965ea8",
   "metadata": {},
   "outputs": [
    {
     "name": "stdout",
     "output_type": "stream",
     "text": [
      "Pos weight medio (calcolato dal validation set): 95.0579 ± 0.2966 (n=2500)\n"
     ]
    },
    {
     "name": "stderr",
     "output_type": "stream",
     "text": [
      "Epoch 1/100 [Train]: 100%|██████████| 5625/5625 [19:42<00:00,  4.76it/s]\n",
      "Epoch 1/100 [Val]: 100%|██████████| 625/625 [00:46<00:00, 13.43it/s]\n"
     ]
    },
    {
     "name": "stdout",
     "output_type": "stream",
     "text": [
      "Epoch 1 | Train Loss: 16.784688 | Val Loss: 15.982731\n",
      "[GPU] alloc: 490.1 MB | max: 2890.7 MB\n",
      " ==> Nuovo modello salvato (val loss migliorata)\n",
      "\n"
     ]
    },
    {
     "name": "stderr",
     "output_type": "stream",
     "text": [
      "Epoch 2/100 [Train]: 100%|██████████| 5625/5625 [20:05<00:00,  4.66it/s]\n",
      "Epoch 2/100 [Val]: 100%|██████████| 625/625 [00:46<00:00, 13.55it/s]\n"
     ]
    },
    {
     "name": "stdout",
     "output_type": "stream",
     "text": [
      "Epoch 2 | Train Loss: 15.776673 | Val Loss: 15.695025\n",
      "[GPU] alloc: 489.6 MB | max: 2891.4 MB\n",
      " ==> Nuovo modello salvato (val loss migliorata)\n",
      "\n"
     ]
    },
    {
     "name": "stderr",
     "output_type": "stream",
     "text": [
      "Epoch 3/100 [Train]: 100%|██████████| 5625/5625 [19:59<00:00,  4.69it/s]\n",
      "Epoch 3/100 [Val]: 100%|██████████| 625/625 [00:46<00:00, 13.55it/s]\n"
     ]
    },
    {
     "name": "stdout",
     "output_type": "stream",
     "text": [
      "Epoch 3 | Train Loss: 15.504962 | Val Loss: 15.590974\n",
      "[GPU] alloc: 490.1 MB | max: 2891.4 MB\n",
      " ==> Nuovo modello salvato (val loss migliorata)\n",
      "\n"
     ]
    },
    {
     "name": "stderr",
     "output_type": "stream",
     "text": [
      "Epoch 4/100 [Train]: 100%|██████████| 5625/5625 [19:57<00:00,  4.70it/s]\n",
      "Epoch 4/100 [Val]: 100%|██████████| 625/625 [00:45<00:00, 13.61it/s]\n"
     ]
    },
    {
     "name": "stdout",
     "output_type": "stream",
     "text": [
      "Epoch 4 | Train Loss: 15.282923 | Val Loss: 15.561863\n",
      "[GPU] alloc: 489.6 MB | max: 2891.4 MB\n",
      " ==> Nuovo modello salvato (val loss migliorata)\n",
      "\n"
     ]
    },
    {
     "name": "stderr",
     "output_type": "stream",
     "text": [
      "Epoch 5/100 [Train]: 100%|██████████| 5625/5625 [19:48<00:00,  4.73it/s]\n",
      "Epoch 5/100 [Val]: 100%|██████████| 625/625 [00:46<00:00, 13.52it/s]\n"
     ]
    },
    {
     "name": "stdout",
     "output_type": "stream",
     "text": [
      "Epoch 5 | Train Loss: 15.046963 | Val Loss: 15.545394\n",
      "[GPU] alloc: 490.1 MB | max: 2891.4 MB\n",
      " ==> Nuovo modello salvato (val loss migliorata)\n",
      "\n"
     ]
    },
    {
     "name": "stderr",
     "output_type": "stream",
     "text": [
      "Epoch 6/100 [Train]: 100%|██████████| 5625/5625 [19:41<00:00,  4.76it/s]\n",
      "Epoch 6/100 [Val]: 100%|██████████| 625/625 [00:45<00:00, 13.61it/s]\n"
     ]
    },
    {
     "name": "stdout",
     "output_type": "stream",
     "text": [
      "Epoch 6 | Train Loss: 14.748775 | Val Loss: 15.732660\n",
      "[GPU] alloc: 489.6 MB | max: 2891.4 MB\n",
      " ==> Nessun miglioramento. patience: 1/7\n",
      "\n"
     ]
    },
    {
     "name": "stderr",
     "output_type": "stream",
     "text": [
      "Epoch 7/100 [Train]: 100%|██████████| 5625/5625 [19:32<00:00,  4.80it/s]\n",
      "Epoch 7/100 [Val]: 100%|██████████| 625/625 [00:46<00:00, 13.52it/s]\n"
     ]
    },
    {
     "name": "stdout",
     "output_type": "stream",
     "text": [
      "Epoch 7 | Train Loss: 14.365807 | Val Loss: 15.955115\n",
      "[GPU] alloc: 490.1 MB | max: 2891.4 MB\n",
      " ==> Nessun miglioramento. patience: 2/7\n",
      "\n"
     ]
    },
    {
     "name": "stderr",
     "output_type": "stream",
     "text": [
      "Epoch 8/100 [Train]: 100%|██████████| 5625/5625 [19:30<00:00,  4.80it/s]\n",
      "Epoch 8/100 [Val]:  34%|███▍      | 211/625 [00:15<00:30, 13.44it/s]\n"
     ]
    },
    {
     "ename": "KeyboardInterrupt",
     "evalue": "",
     "output_type": "error",
     "traceback": [
      "\u001b[0;31m---------------------------------------------------------------------------\u001b[0m",
      "\u001b[0;31mKeyboardInterrupt\u001b[0m                         Traceback (most recent call last)",
      "Cell \u001b[0;32mIn[2], line 8\u001b[0m\n\u001b[1;32m      4\u001b[0m pos_weight_\u001b[38;5;241m=\u001b[39m pos_weight_calculator(datapath)\n\u001b[1;32m      6\u001b[0m train_loader, val_loader \u001b[38;5;241m=\u001b[39m get_dataloaders(data_dir\u001b[38;5;241m=\u001b[39mdatapath, batch_size\u001b[38;5;241m=\u001b[39m\u001b[38;5;241m4\u001b[39m, image_size\u001b[38;5;241m=\u001b[39m(\u001b[38;5;241m416\u001b[39m,\u001b[38;5;241m416\u001b[39m))\n\u001b[0;32m----> 8\u001b[0m \u001b[43mtrain_unet\u001b[49m\u001b[43m(\u001b[49m\u001b[43mmodel\u001b[49m\u001b[43m,\u001b[49m\u001b[43m \u001b[49m\u001b[43mtrain_loader\u001b[49m\u001b[43m,\u001b[49m\u001b[43m \u001b[49m\u001b[43mval_loader\u001b[49m\u001b[43m,\u001b[49m\u001b[43m \u001b[49m\u001b[43mnum_epochs\u001b[49m\u001b[38;5;241;43m=\u001b[39;49m\u001b[38;5;241;43m100\u001b[39;49m\u001b[43m,\u001b[49m\u001b[43m \u001b[49m\u001b[43mlr\u001b[49m\u001b[38;5;241;43m=\u001b[39;49m\u001b[38;5;241;43m1e-3\u001b[39;49m\u001b[43m,\u001b[49m\u001b[43m \u001b[49m\u001b[43mdevice\u001b[49m\u001b[38;5;241;43m=\u001b[39;49m\u001b[43mdevice\u001b[49m\u001b[43m,\u001b[49m\u001b[43m \u001b[49m\u001b[43mpatience\u001b[49m\u001b[38;5;241;43m=\u001b[39;49m\u001b[38;5;241;43m7\u001b[39;49m\u001b[43m,\u001b[49m\u001b[43m \u001b[49m\u001b[43mf1_earlystopping\u001b[49m\u001b[38;5;241;43m=\u001b[39;49m\u001b[38;5;28;43;01mFalse\u001b[39;49;00m\u001b[43m,\u001b[49m\u001b[43m \u001b[49m\u001b[43mpos_weight\u001b[49m\u001b[38;5;241;43m=\u001b[39;49m\u001b[43mpos_weight_\u001b[49m\u001b[43m,\u001b[49m\u001b[43m \u001b[49m\u001b[43mimg_size\u001b[49m\u001b[38;5;241;43m=\u001b[39;49m\u001b[38;5;241;43m416\u001b[39;49m\u001b[43m)\u001b[49m\n\u001b[1;32m     10\u001b[0m \u001b[38;5;66;03m# torch.cuda.empty_cache()\u001b[39;00m\n\u001b[1;32m     11\u001b[0m \u001b[38;5;28mprint\u001b[39m(\u001b[38;5;124m\"\u001b[39m\u001b[38;5;124mTraining completato e cache GPU svuotata.\u001b[39m\u001b[38;5;124m\"\u001b[39m)\n",
      "File \u001b[0;32m~/UNet/UNet.py:561\u001b[0m, in \u001b[0;36mtrain_unet\u001b[0;34m(model, train_loader, val_loader, num_epochs, lr, device, patience, pos_weight, binary_threshold, f1_earlystopping, img_size)\u001b[0m\n\u001b[1;32m    558\u001b[0m                 f1_scores\u001b[38;5;241m.\u001b[39mappend(f1)\n\u001b[1;32m    560\u001b[0m         \u001b[38;5;28;01mdel\u001b[39;00m images, labels, outputs, loss\n\u001b[0;32m--> 561\u001b[0m         \u001b[43mtorch\u001b[49m\u001b[38;5;241;43m.\u001b[39;49m\u001b[43mcuda\u001b[49m\u001b[38;5;241;43m.\u001b[39;49m\u001b[43mempty_cache\u001b[49m\u001b[43m(\u001b[49m\u001b[43m)\u001b[49m\n\u001b[1;32m    563\u001b[0m \u001b[38;5;28;01mif\u001b[39;00m f1_earlystopping \u001b[38;5;129;01mis\u001b[39;00m \u001b[38;5;28;01mTrue\u001b[39;00m:\n\u001b[1;32m    564\u001b[0m     f1_scores \u001b[38;5;241m=\u001b[39m np\u001b[38;5;241m.\u001b[39marray(f1_scores)\n",
      "File \u001b[0;32m~/.venv/lib64/python3.9/site-packages/torch/cuda/memory.py:133\u001b[0m, in \u001b[0;36mempty_cache\u001b[0;34m()\u001b[0m\n\u001b[1;32m    122\u001b[0m \u001b[38;5;250m\u001b[39m\u001b[38;5;124mr\u001b[39m\u001b[38;5;124;03m\"\"\"Releases all unoccupied cached memory currently held by the caching\u001b[39;00m\n\u001b[1;32m    123\u001b[0m \u001b[38;5;124;03mallocator so that those can be used in other GPU application and visible in\u001b[39;00m\n\u001b[1;32m    124\u001b[0m \u001b[38;5;124;03m`nvidia-smi`.\u001b[39;00m\n\u001b[0;32m   (...)\u001b[0m\n\u001b[1;32m    130\u001b[0m \u001b[38;5;124;03m    more details about GPU memory management.\u001b[39;00m\n\u001b[1;32m    131\u001b[0m \u001b[38;5;124;03m\"\"\"\u001b[39;00m\n\u001b[1;32m    132\u001b[0m \u001b[38;5;28;01mif\u001b[39;00m is_initialized():\n\u001b[0;32m--> 133\u001b[0m     \u001b[43mtorch\u001b[49m\u001b[38;5;241;43m.\u001b[39;49m\u001b[43m_C\u001b[49m\u001b[38;5;241;43m.\u001b[39;49m\u001b[43m_cuda_emptyCache\u001b[49m\u001b[43m(\u001b[49m\u001b[43m)\u001b[49m\n",
      "\u001b[0;31mKeyboardInterrupt\u001b[0m: "
     ]
    }
   ],
   "source": [
    "model = UNetWithAttention(in_channels=1, out_channels=1)\n",
    "\n",
    "datapath = '/user/gr1/delphi/dghezzi/SharedDataset_22500_2500_150_175_npy/UNet/416px'\n",
    "pos_weight_= pos_weight_calculator(datapath)\n",
    "\n",
    "train_loader, val_loader = get_dataloaders(data_dir=datapath, batch_size=4, image_size=(416,416))\n",
    "\n",
    "train_unet(model, train_loader, val_loader, num_epochs=100, lr=1e-3, device=device, patience=7, f1_earlystopping=False, pos_weight=pos_weight_, img_size=416)\n",
    "\n",
    "# torch.cuda.empty_cache()\n",
    "print(\"Training completato e cache GPU svuotata.\")"
   ]
  }
 ],
 "metadata": {
  "kernelspec": {
   "display_name": ".venv",
   "language": "python",
   "name": "python3"
  },
  "language_info": {
   "codemirror_mode": {
    "name": "ipython",
    "version": 3
   },
   "file_extension": ".py",
   "mimetype": "text/x-python",
   "name": "python",
   "nbconvert_exporter": "python",
   "pygments_lexer": "ipython3",
   "version": "3.9.19"
  }
 },
 "nbformat": 4,
 "nbformat_minor": 5
}
